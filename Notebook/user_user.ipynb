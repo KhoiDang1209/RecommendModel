{
 "cells": [
  {
   "cell_type": "code",
   "id": "initial_id",
   "metadata": {
    "collapsed": true,
    "ExecuteTime": {
     "end_time": "2024-11-11T17:00:42.822244Z",
     "start_time": "2024-11-11T17:00:41.973108Z"
    }
   },
   "source": [
    "from faker import Faker\n",
    "import pandas as pd\n",
    "import random\n",
    "# Generate fake user data\n",
    "fake = Faker('en_US')\n",
    "Faker.seed(0)\n",
    "\n",
    "# Set the number of fake users you want to generate\n",
    "num_users = 2000  # Adjust this to the size of dataset you want\n",
    "\n",
    "# Create lists to store the generated data\n",
    "user_ids = []\n",
    "ages = []\n",
    "genders = []\n",
    "cities = []\n",
    "countries = []\n",
    "\n",
    "for _ in range(num_users):\n",
    "    user_ids.append(fake.unique.random_number(digits=5, fix_len=True))  # Unique 5-digit user ID\n",
    "    ages.append(random.randint(18, 60))  # Age between 18 and 60\n",
    "    genders.append(random.choice(['male', 'female']))  # Randomly select gender\n",
    "    city = fake.city().lower()\n",
    "    country = 'us'\n",
    "    cities.append(city)\n",
    "    countries.append(country)\n",
    "\n",
    "# Create a DataFrame\n",
    "user_data = pd.DataFrame({\n",
    "    'userID': user_ids,\n",
    "    'age': ages,\n",
    "    'gender': genders,\n",
    "    'city': cities,\n",
    "    'country': countries\n",
    "})\n",
    "\n",
    "# Function to calculate similarity between two users\n",
    "def calculate_similarity(user1, user2):\n",
    "    # Gender similarity\n",
    "    gender_sim = 1 if user1['gender'] == user2['gender'] else 0\n",
    "    \n",
    "    # Age similarity (inverted difference, assuming max age difference of 100)\n",
    "    age_sim = 1 - abs(user1['age'] - user2['age']) / 100\n",
    "    \n",
    "    # Location similarity (city > country)\n",
    "    if user1['city'] == user2['city']:\n",
    "        location_sim = 1  # Same city\n",
    "    elif user1['country'] == user2['country']:\n",
    "        location_sim = 0.5  # Same country, different city\n",
    "    else:\n",
    "        location_sim = 0  # Different country\n",
    "    \n",
    "    # Combine the similarities with weighting\n",
    "    total_similarity = 0.2 * gender_sim + 0.5 * age_sim + 0.3 * location_sim\n",
    "    return total_similarity\n",
    "\n",
    "# Function to find the top 10 most similar users based on input user info\n",
    "def find_top10_similar_users(user_info, user_data):\n",
    "    similarities = []\n",
    "    \n",
    "    # Calculate similarity with all users in the dataset\n",
    "    for i, other_user in user_data.iterrows():\n",
    "        similarity = calculate_similarity(user_info, other_user)\n",
    "        similarities.append((other_user['userID'], other_user['age'], other_user['gender'], other_user['city'], other_user['country'], similarity))\n",
    "    \n",
    "    # Sort by similarity score in descending order and get the top 10\n",
    "    similarities.sort(key=lambda x: x[5], reverse=True)\n",
    "    top10_similar_users = similarities[:10]\n",
    "    \n",
    "    # Print the top 10 most similar users and their similarity scores\n",
    "    print(\"Top 10 similar users:\")\n",
    "    for userid, age, gender, city, country, similarity_score in top10_similar_users:\n",
    "        print(f\"User ID: {userid}, Age: {age}, Gender: {gender}, City: {city}, Country: {country}, Similarity Score: {similarity_score}\")\n",
    "\n",
    "# Example user information to test the function\n",
    "user_info = {\n",
    "    'age': 25,\n",
    "    'gender': 'female',\n",
    "    'city': 'hochiminh',\n",
    "    'country': 'vietnam'\n",
    "}\n",
    "\n",
    "# # Call the function with the user information\n",
    "user_data\n",
    "user_data.to_csv('D:/RecommendModel/user_data.csv')"
   ],
   "outputs": [],
   "execution_count": 1
  },
  {
   "metadata": {
    "ExecuteTime": {
     "end_time": "2024-11-11T17:01:23.169153Z",
     "start_time": "2024-11-11T17:01:21.300947Z"
    }
   },
   "cell_type": "code",
   "source": [
    "product_data=pd.read_csv('../train_data.csv')\n",
    "num_entries = 6000\n",
    "random_data = {\n",
    "    'userid': [random.choice(user_data['userID']) for _ in range(num_entries)],\n",
    "    'productid': [random.choice(product_data['id']) for _ in range(num_entries)],\n",
    "    'main_category': [],\n",
    "    'sub_category': [],\n",
    "    'rating': [round(random.uniform(1, 5), 1) for _ in range(num_entries)]  # Random rating between 1.0 and 5.0\n",
    "}\n",
    "\n",
    "# Populate main_category and sub_category based on the chosen productid\n",
    "product_mapping = product_data.set_index('id')[['main_category', 'sub_category']].to_dict('index')\n",
    "\n",
    "for product_id in random_data['productid']:\n",
    "    main_category = product_mapping[product_id]['main_category']\n",
    "    sub_category = product_mapping[product_id]['sub_category']\n",
    "    random_data['main_category'].append(main_category)\n",
    "    random_data['sub_category'].append(sub_category)\n",
    "\n",
    "# Create the final DataFrame\n",
    "ratings_data = pd.DataFrame(random_data)\n",
    "\n",
    "# Display the first few rows\n",
    "print(ratings_data.head())"
   ],
   "id": "e1f4f9c9ab76d86",
   "outputs": [
    {
     "name": "stdout",
     "output_type": "stream",
     "text": [
      "   userid  productid        main_category           sub_category  rating\n",
      "0   90187  hkt242817       home & kitchen              Furniture     2.0\n",
      "1   68271  acs019412          accessories    Handbags & Clutches     4.1\n",
      "2   82010  msh089295          men's shoes           Casual Shoes     4.9\n",
      "3   69735  str226246               stores  The Designer Boutique     1.6\n",
      "4   70976  tvc114892  tv, audio & cameras               Speakers     1.3\n"
     ]
    }
   ],
   "execution_count": 2
  },
  {
   "metadata": {
    "ExecuteTime": {
     "end_time": "2024-11-11T17:01:35.372246Z",
     "start_time": "2024-11-11T17:01:35.331156Z"
    }
   },
   "cell_type": "code",
   "source": [
    "ratings_data = ratings_data.drop('Unnamed: 0', axis=1)\n",
    "ratings_data.to_csv('D:/RecommendModel/ratings.csv')"
   ],
   "id": "da02a6802a03e96f",
   "outputs": [],
   "execution_count": 3
  },
  {
   "metadata": {},
   "cell_type": "code",
   "outputs": [],
   "execution_count": null,
   "source": "",
   "id": "9260cf42fa9b9d91"
  }
 ],
 "metadata": {
  "kernelspec": {
   "display_name": "Python 3",
   "language": "python",
   "name": "python3"
  },
  "language_info": {
   "codemirror_mode": {
    "name": "ipython",
    "version": 2
   },
   "file_extension": ".py",
   "mimetype": "text/x-python",
   "name": "python",
   "nbconvert_exporter": "python",
   "pygments_lexer": "ipython2",
   "version": "2.7.6"
  }
 },
 "nbformat": 4,
 "nbformat_minor": 5
}
