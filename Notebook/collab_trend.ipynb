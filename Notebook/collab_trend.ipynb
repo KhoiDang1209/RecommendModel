{
 "cells": [
  {
   "cell_type": "code",
   "id": "initial_id",
   "metadata": {
    "collapsed": true,
    "ExecuteTime": {
     "end_time": "2024-11-19T09:49:45.471169Z",
     "start_time": "2024-11-19T09:49:45.055861Z"
    }
   },
   "source": [
    "import pandas as pd\n",
    "from sklearn.metrics.pairwise import cosine_similarity\n",
    "encoded_main_category = pd.read_csv('../encoded_main_category.csv')\n",
    "ratings = pd.read_csv('ratings_test.csv')\n",
    "user_data=pd.read_csv('../user_data.csv')\n",
    "products=pd.read_csv('test_data.csv')"
   ],
   "outputs": [],
   "execution_count": 16
  },
  {
   "metadata": {
    "ExecuteTime": {
     "end_time": "2024-11-19T09:51:17.601400Z",
     "start_time": "2024-11-19T09:51:17.470496Z"
    }
   },
   "cell_type": "code",
   "source": [
    "def calculate_similarity(user1, user2):\n",
    "    gender_sim = 1 if user1['gender'] == user2['gender'] else 0\n",
    "    age_sim = 1 - abs(user1['age'] - user2['age']) / 100\n",
    "    if user1['city'] == user2['city']:\n",
    "        location_sim = 1  # Same city\n",
    "    elif user1['country'] == user2['country']:\n",
    "        location_sim = 0.5  # Same country, different city\n",
    "    else:\n",
    "        location_sim = 0  # Different country\n",
    "    total_similarity = 0.2 * gender_sim + 0.6 * age_sim + 0.2 * location_sim\n",
    "    return total_similarity\n",
    "def find_top5_similar_users(user_info, user_data):\n",
    "    similarities = []\n",
    "    for i, other_user in user_data.iterrows():\n",
    "        similarity = calculate_similarity(user_info, other_user)\n",
    "        similarities.append((other_user['userID'], similarity))\n",
    "    similarities.sort(key=lambda x: x[1], reverse=True)\n",
    "    top5_similar_users = [user[0] for user in similarities[:5]]\n",
    "    return top5_similar_users\n",
    "user_info = {\n",
    "    'age': 22,\n",
    "    'gender': 'female',\n",
    "    'city': 'thomasville',\n",
    "    'country': 'us',\n",
    "    'interest': '18,19'\n",
    "}\n",
    "def collaborative_filtering_top5_recommendations(user_info, user_data, ratings_data, top_n=10):\n",
    "    # Find the top 5 similar users\n",
    "    top5_similar_users = find_top5_similar_users(user_info, user_data)\n",
    "    filtered_ratings_data = ratings_data[ratings_data['userid'].isin(top5_similar_users)]\n",
    "    user_item_matrix = filtered_ratings_data.pivot_table(\n",
    "        index='userid',\n",
    "        columns='productid',\n",
    "        values='rating',\n",
    "        aggfunc='mean'\n",
    "    ).fillna(0)\n",
    "    user_similarity = cosine_similarity(user_item_matrix)\n",
    "\n",
    "    recommended_items = set()\n",
    "    for target_user_id in top5_similar_users:\n",
    "        try:\n",
    "            target_user_index = user_item_matrix.index.get_loc(target_user_id)\n",
    "        except KeyError:\n",
    "            continue  # Skip users not present in the matrix\n",
    "        user_similarities = user_similarity[target_user_index]\n",
    "        similar_users_indices = user_similarities.argsort()[::-1][1:]\n",
    "\n",
    "        for user_index in similar_users_indices:\n",
    "            rated_by_similar_user = user_item_matrix.iloc[user_index]\n",
    "            not_rated_by_target_user = (rated_by_similar_user > 0) & (user_item_matrix.iloc[target_user_index] == 0)\n",
    "            recommended_items.update(user_item_matrix.columns[not_rated_by_target_user][:top_n])\n",
    "            if len(recommended_items) >= top_n:\n",
    "                break\n",
    "    recommended_items_details = ratings_data[\n",
    "        ratings_data['productid'].isin(recommended_items)\n",
    "    ][['productid', 'rating']].drop_duplicates()\n",
    "    return recommended_items_details.sort_values(by='rating', ascending=False).head(top_n)['productid'].tolist()\n",
    "collaborative_filtering_top5_rec=collaborative_filtering_top5_recommendations(user_info,user_data,ratings,top_n=20)\n",
    "collaborative_filtering_top5_rec"
   ],
   "id": "48270c83ecb73459",
   "outputs": [
    {
     "data": {
      "text/plain": [
       "['app250928',\n",
       " 'acs106891',\n",
       " 'acs245060',\n",
       " 'ggf196312',\n",
       " 'app253530',\n",
       " 'acs157229',\n",
       " 'acs010207',\n",
       " 'hkt067539',\n",
       " 'hkt204108',\n",
       " 'acs185415',\n",
       " 'acs226990',\n",
       " 'ind205074',\n",
       " 'ggf153700',\n",
       " 'acs003283',\n",
       " 'ind120012',\n",
       " 'acs172405',\n",
       " 'cmb091734',\n",
       " 'acs068708',\n",
       " 'acs227005',\n",
       " 'acs050091']"
      ]
     },
     "execution_count": 17,
     "metadata": {},
     "output_type": "execute_result"
    }
   ],
   "execution_count": 17
  },
  {
   "metadata": {
    "ExecuteTime": {
     "end_time": "2024-11-19T09:52:55.377918Z",
     "start_time": "2024-11-19T09:52:55.331046Z"
    }
   },
   "cell_type": "code",
   "source": [
    "def most_trending_products(product_data, top_n=10):\n",
    "    # Sort the products by ratings and number of ratings in descending order\n",
    "    trending_products = product_data.sort_values(\n",
    "        by=['ratings', 'no_of_ratings'], ascending=False\n",
    "    ).head(top_n)\n",
    "\n",
    "    # Return the top trending products with essential details\n",
    "    return trending_products[['id', 'name', 'ratings', 'no_of_ratings']].values.tolist()\n",
    "most_trending_products_rec = most_trending_products(products, top_n=20)\n",
    "most_trending_products_rec"
   ],
   "id": "d25e61f7f4bf032c",
   "outputs": [
    {
     "data": {
      "text/plain": [
       "[['tvc199556',\n",
       "  'Tizum USB Type C to Type C 3A (60W) Fast Charging Braided Cable for Mobile, Laptop, Tablets & other Type-C devices | Suppo...',\n",
       "  5.0,\n",
       "  41.0],\n",
       " ['wcl147640',\n",
       "  \"Rushwak Women's Soft Silicone Bra Strap Cushions Holder Bra Set Strap Holder Light Weight Non-Slip Safe Shoulder Pads Free...\",\n",
       "  5.0,\n",
       "  40.0],\n",
       " ['wcl040115',\n",
       "  \"Rushwak Women's Soft Silicone Bra Strap Cushions Holder Bra Set Strap Holder Light Weight Non-Slip Safe Shoulder Pads Free...\",\n",
       "  5.0,\n",
       "  40.0],\n",
       " ['app223819',\n",
       "  \"Kitchengenix's Portable Yogurt Maker, 1 L Capacity, Electric, Automatic, Bowl/Container (Pink)\",\n",
       "  5.0,\n",
       "  39.0],\n",
       " ['hkt146063',\n",
       "  'TEX-RO Fridge Organizer Gray Colander Bin Variety Pack, Fridge Storage Boxes, Produce Storage, Keep Vegetables Fresh, Lett...',\n",
       "  5.0,\n",
       "  38.0],\n",
       " ['wcl006268',\n",
       "  'SATPURUSH Lycra Saree Shapewear Petticoat for Women, Cotton Blended,Petticoat,Skirts for Women,Shape Wear Dress for Saree',\n",
       "  5.0,\n",
       "  36.0],\n",
       " ['wcl177074', \"Yashika women's Art Silk Saree With Blouse Piece\", 5.0, 32.0],\n",
       " ['wcl121491', \"Yashika women's Art Silk Saree With Blouse Piece\", 5.0, 32.0],\n",
       " ['app078303',\n",
       "  'Casa Copenhagen, 27 L - R10.3 Air Punch Collection Personal Air Cooler with Anti Bacterial Honeycomb Pads, 3rd Turbo Fan, ...',\n",
       "  5.0,\n",
       "  31.0],\n",
       " ['wcl234739',\n",
       "  'KTRIKSHA Crepe Printed A-Line Kurti for Women - Stylish and Comfortable Indian Ethnic Wear',\n",
       "  5.0,\n",
       "  28.0],\n",
       " ['hkt251110',\n",
       "  'BELOXY Drain Pipe Cleaning Spring Stick, Hair Catching Drain Pipe Cleaning Claw Wire, Sink Cleaning Stick Sewer Sink Tub D...',\n",
       "  5.0,\n",
       "  26.0],\n",
       " ['tvc179529',\n",
       "  'SMALLRIG Right Side Rosette Wooden Handle Wooden Handgrip with Quick Release Rosette NATO Clamp, for Camera Cage Camera Ri...',\n",
       "  5.0,\n",
       "  24.0],\n",
       " ['wcl056855',\n",
       "  'ORZIX Fashion Dressing Tape/Invisible Double-Sided Body Tape (Fabric and Skin Friendly) Double Sided Tape for Clothes Dres...',\n",
       "  5.0,\n",
       "  23.0],\n",
       " ['ind102753',\n",
       "  'SQQEZR Microfiber Feather Duster Bendable & Extendable Fan Cleaning Duster with 100 inches Expandable Pole Handle Washable...',\n",
       "  5.0,\n",
       "  22.0],\n",
       " ['acs039437',\n",
       "  'Mokobara The Fanny Pack Cross Body Vegan Leather Sling Bag for Men and Women (Seaweed Green)',\n",
       "  5.0,\n",
       "  21.0],\n",
       " ['bth168143',\n",
       "  'The Old Natural Salmega Triple Strength Salmon Omega 3 Fish Oil 1800Mg, 30 Softgels I High Potency 600Mg Epa & 400Mg Dha W...',\n",
       "  5.0,\n",
       "  21.0],\n",
       " ['wcl023357',\n",
       "  \"Amayra Women's Rayon Embroidery Kurti with Palazzos and Dupatta Set\",\n",
       "  5.0,\n",
       "  20.0],\n",
       " ['tbp121499',\n",
       "  'Sajani Flashing Plastic Magic Lattoo Top Toy // Toy with LED Lights Music Attractive Toy // Non-Toxic and Safe Spinning To...',\n",
       "  5.0,\n",
       "  20.0],\n",
       " ['hkt050497',\n",
       "  'COSTEM 5 XL Plastic Modular Drawer System for Home, Office, Hospital, Parlor, School, Doctors, Home and Kids, Product Dime...',\n",
       "  5.0,\n",
       "  20.0],\n",
       " ['bth003017',\n",
       "  'Dufte - Commit to Fit Skin Glow Glutathione Effervescent Tablets For Clear and Radiant Skin | for Pigmentation, Dark spots...',\n",
       "  5.0,\n",
       "  20.0]]"
      ]
     },
     "execution_count": 18,
     "metadata": {},
     "output_type": "execute_result"
    }
   ],
   "execution_count": 18
  },
  {
   "metadata": {},
   "cell_type": "code",
   "outputs": [],
   "execution_count": null,
   "source": "",
   "id": "2db2cdc007cf4dbe"
  }
 ],
 "metadata": {
  "kernelspec": {
   "display_name": "Python 3",
   "language": "python",
   "name": "python3"
  },
  "language_info": {
   "codemirror_mode": {
    "name": "ipython",
    "version": 2
   },
   "file_extension": ".py",
   "mimetype": "text/x-python",
   "name": "python",
   "nbconvert_exporter": "python",
   "pygments_lexer": "ipython2",
   "version": "2.7.6"
  }
 },
 "nbformat": 4,
 "nbformat_minor": 5
}
