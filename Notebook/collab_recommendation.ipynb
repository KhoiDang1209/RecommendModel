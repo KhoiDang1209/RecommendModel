{
 "cells": [
  {
   "cell_type": "code",
   "id": "initial_id",
   "metadata": {
    "collapsed": true,
    "ExecuteTime": {
     "end_time": "2024-11-21T15:22:49.061695Z",
     "start_time": "2024-11-21T15:22:45.387049Z"
    }
   },
   "source": [
    "import pandas as pd\n",
    "import pickle\n",
    "from sklearn.metrics.pairwise import cosine_similarity\n",
    "\n",
    "\n",
    "class CollabRecommendation:\n",
    "    def __init__(self, user_data, product_data, rating_data):\n",
    "        self.user_data = user_data\n",
    "        self.product_data = product_data\n",
    "        self.rating_data = rating_data\n",
    "\n",
    "    def collaborative_filtering_recommendations(self, target_user_id, top_n=10):\n",
    "        # Pivot the data to create a user-item matrix\n",
    "        user_item_matrix =self.rating_data.pivot_table(index='userid', columns='productid', values='rating', aggfunc='mean').fillna(0)\n",
    "\n",
    "        # Get the target user's ratings\n",
    "        target_user_ratings = user_item_matrix.loc[target_user_id]\n",
    "\n",
    "        # Find users who have rated items in common with the target user\n",
    "        similar_users = user_item_matrix[(user_item_matrix > 0).any(axis=1) & (user_item_matrix.index != target_user_id)]\n",
    "\n",
    "        # Calculate the cosine similarity between the target user and similar users\n",
    "        similar_users_similarity = cosine_similarity(target_user_ratings.values.reshape(1, -1), similar_users.values)\n",
    "\n",
    "        # Sort similar users by similarity score\n",
    "        similar_users_indices = similar_users_similarity.argsort()[0][::-1]\n",
    "\n",
    "        # Generate recommendations\n",
    "        recommended_items = []\n",
    "        for user_index in similar_users_indices[:top_n]:\n",
    "            similar_user_ratings = similar_users.iloc[user_index]\n",
    "            recommended_items.extend(similar_user_ratings[similar_user_ratings > 0].index)\n",
    "\n",
    "        # Remove items already rated by the target user\n",
    "        recommended_items = [item for item in recommended_items if item not in target_user_ratings.index]\n",
    "        # Get details of recommended items\n",
    "        recommended_items_details = product_data[product_data['id'].isin(recommended_items)][['id', 'name']]\n",
    "        return recommended_items_details\n",
    "\n",
    "    def recommend(self, user_id, top_n=20):\n",
    "        return self.collaborative_filtering_recommendations(user_id, top_n=top_n)\n",
    "\n",
    "    def save(self, filepath):\n",
    "        \"\"\"Save the model to a file.\"\"\"\n",
    "        with open(filepath, 'wb') as f:\n",
    "            pickle.dump(self, f)\n",
    "\n",
    "    @staticmethod\n",
    "    def load(filepath):\n",
    "        \"\"\"Load the model from a file.\"\"\"\n",
    "        with open(filepath, 'rb') as f:\n",
    "            return pickle.load(f)\n",
    "\n",
    "\n",
    "# Example usage\n",
    "if __name__ == \"__main__\":\n",
    "    # Load data\n",
    "    user_data = pd.read_csv('user_data.csv')\n",
    "    ratings_data = pd.read_csv('ratings_test.csv')\n",
    "    product_data = pd.read_csv('test_data.csv')\n",
    "\n",
    "    # Initialize the model\n",
    "    model = CollabRecommendation(user_data, product_data, ratings_data)\n",
    "\n",
    "    # Example user ID\n",
    "    user_id = '35262'\n",
    "\n",
    "    # Generate recommendations\n",
    "    recommendations = model.recommend(user_id, top_n=10)\n",
    "\n",
    "    print(f\"Recommendations for user ID {user_id}:\")\n",
    "    for rec in recommendations:\n",
    "        print(f\"Product ID: {rec[0]}, Product Name: {rec[1]}\")\n"
   ],
   "outputs": [
    {
     "name": "stdout",
     "output_type": "stream",
     "text": [
      "Recommendations for user ID 35262:\n",
      "Product ID: i, Product Name: d\n",
      "Product ID: n, Product Name: a\n"
     ]
    }
   ],
   "execution_count": 23
  },
  {
   "metadata": {
    "ExecuteTime": {
     "end_time": "2024-11-21T15:22:25.747999Z",
     "start_time": "2024-11-21T15:22:25.740002Z"
    }
   },
   "cell_type": "code",
   "source": "    ",
   "id": "7c9e7fb42d9afd12",
   "outputs": [],
   "execution_count": null
  },
  {
   "metadata": {},
   "cell_type": "code",
   "outputs": [],
   "execution_count": null,
   "source": "",
   "id": "c6f8e48e85d5e5d"
  }
 ],
 "metadata": {
  "kernelspec": {
   "display_name": "Python 3",
   "language": "python",
   "name": "python3"
  },
  "language_info": {
   "codemirror_mode": {
    "name": "ipython",
    "version": 2
   },
   "file_extension": ".py",
   "mimetype": "text/x-python",
   "name": "python",
   "nbconvert_exporter": "python",
   "pygments_lexer": "ipython2",
   "version": "2.7.6"
  }
 },
 "nbformat": 4,
 "nbformat_minor": 5
}
