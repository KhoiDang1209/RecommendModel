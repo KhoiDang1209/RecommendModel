{
 "cells": [
  {
   "cell_type": "code",
   "id": "initial_id",
   "metadata": {
    "collapsed": true,
    "ExecuteTime": {
     "end_time": "2024-11-25T12:04:36.924082Z",
     "start_time": "2024-11-25T12:04:35.560872Z"
    }
   },
   "source": [
    "import pickle\n",
    "import pandas as pd\n",
    "from sklearn.feature_extraction.text import TfidfVectorizer\n",
    "from sklearn.metrics.pairwise import cosine_similarity\n",
    "class SearchRecommendation:\n",
    "\n",
    "    def __init__(self, csv_path=None):\n",
    "        # Default CSV path if none is provided\n",
    "        self.csv_path = csv_path or 'test_data.csv'\n",
    "\n",
    "        # Load the data\n",
    "        self.data = pd.read_csv(self.csv_path, engine='python', encoding='utf-8')\n",
    "\n",
    "        # Preprocess the data\n",
    "        self.data['processed_name'] = self.data['name'].str.lower()\n",
    "\n",
    "        # Fit the TF-IDF vectorizer\n",
    "        self.vectorizer = TfidfVectorizer(stop_words='english')\n",
    "        self.tfidf_matrix = self.vectorizer.fit_transform(self.data['processed_name'])\n",
    "\n",
    "    def search(self, query, top_n=20):\n",
    "        # Transform the query to a vector\n",
    "        query_vector = self.vectorizer.transform([query.lower()])\n",
    "\n",
    "        # Compute cosine similarities\n",
    "        cosine_similarities = cosine_similarity(query_vector, self.tfidf_matrix).flatten()\n",
    "        results_df = pd.DataFrame({\n",
    "            'id': self.data['id'].astype(str),  # Ensure ID is treated as string for consistency\n",
    "            'name': self.data['name'],\n",
    "            'cosine_similarity': cosine_similarities\n",
    "        })\n",
    "        results_df = results_df.sort_values(by='cosine_similarity', ascending=False)\n",
    "\n",
    "        # Select only the 'id' and 'name' columns and convert to list of dictionaries\n",
    "        results_list = results_df[['id', 'name']].head(top_n).to_dict(orient='records')\n",
    "\n",
    "        return results_list\n",
    "model = SearchRecommendation(csv_path='test_data.csv')\n",
    "with open('search_recommendation.pkl', 'wb') as file:\n",
    "    pickle.dump(model, file)"
   ],
   "outputs": [],
   "execution_count": 5
  },
  {
   "metadata": {},
   "cell_type": "code",
   "outputs": [],
   "execution_count": null,
   "source": "",
   "id": "c5dd3f08c196328c"
  }
 ],
 "metadata": {
  "kernelspec": {
   "display_name": "Python 3",
   "language": "python",
   "name": "python3"
  },
  "language_info": {
   "codemirror_mode": {
    "name": "ipython",
    "version": 2
   },
   "file_extension": ".py",
   "mimetype": "text/x-python",
   "name": "python",
   "nbconvert_exporter": "python",
   "pygments_lexer": "ipython2",
   "version": "2.7.6"
  }
 },
 "nbformat": 4,
 "nbformat_minor": 5
}
