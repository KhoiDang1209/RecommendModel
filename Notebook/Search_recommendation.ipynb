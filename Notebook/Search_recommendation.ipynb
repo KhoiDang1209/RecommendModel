{
 "cells": [
  {
   "cell_type": "code",
   "id": "initial_id",
   "metadata": {
    "collapsed": true,
    "ExecuteTime": {
     "end_time": "2024-11-21T04:25:21.851165Z",
     "start_time": "2024-11-21T04:25:20.221974Z"
    }
   },
   "source": [
    "import pickle\n",
    "import pandas as pd\n",
    "from sklearn.feature_extraction.text import TfidfVectorizer\n",
    "from sklearn.metrics.pairwise import cosine_similarity\n",
    "\n",
    "\n",
    "class SearchRecommendation:\n",
    "    def __init__(self, data_path):\n",
    "        self.data = pd.read_csv(data_path)\n",
    "        self.data['processed_name'] = self.data['name'].str.lower()\n",
    "\n",
    "        self.vectorizer = TfidfVectorizer(stop_words='english')\n",
    "        self.tfidf_matrix = self.vectorizer.fit_transform(self.data['processed_name'])\n",
    "\n",
    "    def search(self, query, top_n=20):\n",
    "        query_vector = self.vectorizer.transform([query.lower()])\n",
    "        cosine_similarities = cosine_similarity(query_vector, self.tfidf_matrix).flatten()\n",
    "        results_df = pd.DataFrame({\n",
    "            'id': self.data['id'].astype(str),  # Ensure ID is treated as string for consistency\n",
    "            'name': self.data['name'],\n",
    "            'cosine_similarity': cosine_similarities\n",
    "        })\n",
    "        results_df = results_df.sort_values(by='cosine_similarity', ascending=False)\n",
    "\n",
    "        # Select only the 'id' and 'name' columns and convert to list of dictionaries\n",
    "        results_list = results_df[['id', 'name']].head(top_n).to_dict(orient='records')\n",
    "\n",
    "        return results_list\n",
    "\n",
    "\n",
    "    def save(self, filepath):\n",
    "        \"\"\"Save the model to a file.\"\"\"\n",
    "        with open(filepath, 'wb') as f:\n",
    "            pickle.dump(self, f)\n",
    "\n",
    "    @staticmethod\n",
    "    def load(filepath):\n",
    "        \"\"\"Load the model from a file.\"\"\"\n",
    "        with open(filepath, 'rb') as f:\n",
    "            return pickle.load(f)\n",
    "\n",
    "\n",
    "# Example Usage\n",
    "if __name__ == \"__main__\":\n",
    "    # Initialize and save the model\n",
    "    search_model = SearchRecommendation(data_path=\"../test_data.csv\")\n",
    "    search_model.save('D:/RecommendModel/Saved_model/search_recommendation_model.pkl')\n",
    "    # Load the model from the file\n",
    "\n",
    "    # Perform a search\n",
    "    query = \"men\"\n",
    "    results = search_model.search(query, top_n=20)\n",
    "    print(\"Search query:\", query)\n",
    "    print(results)\n"
   ],
   "outputs": [
    {
     "name": "stdout",
     "output_type": "stream",
     "text": [
      "Search query: men\n",
      "[{'id': 'mcl216945', 'name': \"Men's Casual Shirt for Men\"}, {'id': 'mcl015716', 'name': 'R&B Men T-Shirt'}, {'id': 'mcl185879', 'name': 'Lyriq Casual Shirt for Men|| Shirt for Men|| Men Stylish Shirt || Men Printed Shirt'}, {'id': 'str241036', 'name': 'AL FASCINO Wallet for Men Stylish Purse for Men RFID Wallet for Men Purse for Men Leather Wallets for Men Original Wallet ...'}, {'id': 'msh244701', 'name': \"Men's Tan Synthetic Loafer for Men's\"}, {'id': 'mcl222437', 'name': 'Lymio Casual Shirt for Men|| Shirt for Men|| Men Stylish Shirt || Men Printed Shirt (Big Pan)'}, {'id': 'str250225', 'name': 'Lymio Casual Shirt for Men|| Shirt for Men|| Men Stylish Shirt || Men Printed Shirt (Squre)'}, {'id': 'mcl009011', 'name': \"Men's Trendy Boxer/Shorts for Men/Cotton Boxer for Men (Pack of 3)\"}, {'id': 'str199507', 'name': 'Lymio Casual Shirt for Men|| Shirt for Men|| Men Stylish Shirt || Men Printed Shirt (Shed Floral)'}, {'id': 'mcl126235', 'name': 'Lymio Casual Shirt for Men|| Shirt for Men|| Men Stylish Shirt || Men Printed Shirt (Shed Floral)'}, {'id': 'acs212970', 'name': 'Hornbull Wallet for Men | Brown Wallet and Belt Gift Hamper for Men | Leather Wallets for Men | Men’s Combo Gift Set'}, {'id': 'str266016', 'name': 'Lymio Casual Shirt for Men|| Shirt for Men|| Men Stylish Shirt || Men Printed Shirt (Beach Blue,Red,Rama)'}, {'id': 'mcl034804', 'name': \"Men's Cotton Multicolor Casual Solid Boxers for Men's Pack of 3\"}, {'id': 'mcl061160', 'name': 'R&B Men Dress Shirt'}, {'id': 'mcl070134', 'name': 'The Purple Tree Basic Solid Cotton T-Shirt for Men (Pack of 3) Men Tshirt Combo Pack, Tshirt for Men, Men t-Shirts, Basic ...'}, {'id': 'mcl057659', 'name': \"t-base Men's Blue Half Sleeve Shirt - Shirts for Men\"}, {'id': 'mcl192174', 'name': 'T.T. Men Top Thermal'}, {'id': 'mcl196324', 'name': \"Le Mec Men's Regular Fit Cotton Blend Solid Casual Shirt for Men | Men's Shirt\"}, {'id': 'bag052040', 'name': 'Leather Wallet for Men'}, {'id': 'msh261708', 'name': \"Bonexy Men's Casual&Sneaker Shoe's for Men's\"}]\n"
     ]
    }
   ],
   "execution_count": 6
  },
  {
   "metadata": {},
   "cell_type": "code",
   "outputs": [],
   "execution_count": null,
   "source": [
    "import pickle\n",
    "\n",
    "# Save the SearchRecommendation instance\n",
    "def save_search_recommendation_model(model, filepath=\"search_recommendation_model.pkl\"):\n",
    "    with open(filepath, \"wb\") as file:\n",
    "        pickle.dump(model, file)\n",
    "    print(\"SearchRecommendation model saved successfully.\")\n",
    "\n",
    "# Example usage\n",
    "model = SearchRecommendation(data_path='../test_data.csv')\n",
    "save_search_recommendation_model(model)\n"
   ],
   "id": "9e409199325ec44"
  }
 ],
 "metadata": {
  "kernelspec": {
   "display_name": "Python 3",
   "language": "python",
   "name": "python3"
  },
  "language_info": {
   "codemirror_mode": {
    "name": "ipython",
    "version": 2
   },
   "file_extension": ".py",
   "mimetype": "text/x-python",
   "name": "python",
   "nbconvert_exporter": "python",
   "pygments_lexer": "ipython2",
   "version": "2.7.6"
  }
 },
 "nbformat": 4,
 "nbformat_minor": 5
}
