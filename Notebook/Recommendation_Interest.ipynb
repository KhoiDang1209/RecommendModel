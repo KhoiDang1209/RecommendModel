{
 "cells": [
  {
   "cell_type": "code",
   "id": "initial_id",
   "metadata": {
    "collapsed": true,
    "ExecuteTime": {
     "end_time": "2024-11-21T11:18:45.842102Z",
     "start_time": "2024-11-21T11:18:39.992171Z"
    }
   },
   "source": [
    "import pandas as pd\n",
    "import pickle\n",
    "from sklearn.metrics.pairwise import cosine_similarity\n",
    "\n",
    "class RecommendationModel:\n",
    "    def __init__(self, user_data, ratings_data, product_data):\n",
    "        # Store the datasets in attributes\n",
    "        self.user_data = user_data\n",
    "        self.ratings_data = ratings_data\n",
    "        self.product_data = product_data\n",
    "\n",
    "    @staticmethod\n",
    "    def calculate_similarity(user1, user2):\n",
    "        \"\"\"Calculate similarity between two users.\"\"\"\n",
    "        gender_sim = 1 if user1['gender'] == user2['gender'] else 0\n",
    "        age_sim = 1 - abs(user1['age'] - user2['age']) / 100\n",
    "        if user1['city'] == user2['city']:\n",
    "            location_sim = 1\n",
    "        elif user1['country'] == user2['country']:\n",
    "            location_sim = 0.5\n",
    "        else:\n",
    "            location_sim = 0\n",
    "        total_similarity = 0.2 * gender_sim + 0.6 * age_sim + 0.2 * location_sim\n",
    "        return total_similarity\n",
    "\n",
    "    def find_top5_similar_users(self, user_info):\n",
    "        \"\"\"Find the top 5 similar users based on user attributes.\"\"\"\n",
    "        similarities = []\n",
    "        for i, other_user in self.user_data.iterrows():\n",
    "            similarity = self.calculate_similarity(user_info, other_user)\n",
    "            similarities.append((other_user['userID'], similarity))\n",
    "        similarities.sort(key=lambda x: x[1], reverse=True)\n",
    "        return [user[0] for user in similarities[:5]]\n",
    "\n",
    "    def collaborative_filtering_recommendations(self, user_info, top_n=10):\n",
    "        \"\"\"Generate recommendations using collaborative filtering.\"\"\"\n",
    "        top5_similar_users = self.find_top5_similar_users(user_info)\n",
    "        filtered_ratings_data = self.ratings_data[self.ratings_data['userid'].isin(top5_similar_users)]\n",
    "        user_item_matrix = filtered_ratings_data.pivot_table(\n",
    "            index='userid',\n",
    "            columns='productid',\n",
    "            values='rating',\n",
    "            aggfunc='mean'\n",
    "        ).fillna(0)\n",
    "        user_similarity = cosine_similarity(user_item_matrix)\n",
    "        recommended_items = set()\n",
    "        for target_user_id in top5_similar_users:\n",
    "            try:\n",
    "                target_user_index = user_item_matrix.index.get_loc(target_user_id)\n",
    "            except KeyError:\n",
    "                continue\n",
    "            user_similarities = user_similarity[target_user_index]\n",
    "            similar_users_indices = user_similarities.argsort()[::-1][1:]\n",
    "            for user_index in similar_users_indices:\n",
    "                rated_by_similar_user = user_item_matrix.iloc[user_index]\n",
    "                not_rated_by_target_user = (rated_by_similar_user > 0) & (user_item_matrix.iloc[target_user_index] == 0)\n",
    "                recommended_items.update(user_item_matrix.columns[not_rated_by_target_user][:top_n])\n",
    "                if len(recommended_items) >= top_n:\n",
    "                    break\n",
    "        recommended_items_details = self.ratings_data[\n",
    "            self.ratings_data['productid'].isin(recommended_items)\n",
    "        ][['productid', 'rating']].drop_duplicates()\n",
    "        recommended_items_with_names = recommended_items_details.merge(\n",
    "        self.product_data[['id', 'name']],\n",
    "        left_on='productid',\n",
    "        right_on='id',\n",
    "        how='inner')\n",
    "        top_recommendations = recommended_items_with_names.sort_values(by='rating', ascending=False ).head(top_n)\n",
    "        return top_recommendations[['productid', 'name']].values.tolist()\n",
    "\n",
    "    def highest_rated_products_by_interest(self, user_info, top_n=20):\n",
    "        \"\"\"Get top-rated products based on user interests.\"\"\"\n",
    "        user_interest = list(map(int, user_info['interest'].split(',')))\n",
    "        filtered_products = self.product_data[self.product_data['main_category_encoded'].isin(user_interest)]\n",
    "        top_products = filtered_products.sort_values(\n",
    "            by=['ratings', 'no_of_ratings'], ascending=False\n",
    "        ).head(top_n)\n",
    "        return top_products[['id', 'name']].values.tolist()\n",
    "\n",
    "    def recommend(self, user_info, top_n=20):\n",
    "        \"\"\"Generate final recommendations combining collaborative filtering and interest-based filtering.\"\"\"\n",
    "        collaborative_recommendations = self.collaborative_filtering_recommendations(user_info, top_n=top_n)\n",
    "        interest_based_recommendations = self.highest_rated_products_by_interest(user_info, top_n=top_n)\n",
    "\n",
    "        recommendations = {\n",
    "            \"collaborative\": collaborative_recommendations,\n",
    "            \"interest_based\": interest_based_recommendations\n",
    "        }\n",
    "        return recommendations\n",
    "\n",
    "    def save(self, filepath):\n",
    "        \"\"\"Save the model to a file.\"\"\"\n",
    "        with open(filepath, 'wb') as f:\n",
    "            pickle.dump(self, f)\n",
    "\n",
    "    @staticmethod\n",
    "    def load(filepath):\n",
    "        \"\"\"Load the model from a file.\"\"\"\n",
    "        with open(filepath, 'rb') as f:\n",
    "            return pickle.load(f)\n"
   ],
   "outputs": [
    {
     "ename": "KeyboardInterrupt",
     "evalue": "",
     "output_type": "error",
     "traceback": [
      "\u001B[1;31m---------------------------------------------------------------------------\u001B[0m",
      "\u001B[1;31mKeyboardInterrupt\u001B[0m                         Traceback (most recent call last)",
      "Cell \u001B[1;32mIn[1], line 1\u001B[0m\n\u001B[1;32m----> 1\u001B[0m \u001B[38;5;28;01mimport\u001B[39;00m \u001B[38;5;21;01mpandas\u001B[39;00m \u001B[38;5;28;01mas\u001B[39;00m \u001B[38;5;21;01mpd\u001B[39;00m\n\u001B[0;32m      2\u001B[0m \u001B[38;5;28;01mimport\u001B[39;00m \u001B[38;5;21;01mpickle\u001B[39;00m\n\u001B[0;32m      3\u001B[0m \u001B[38;5;28;01mfrom\u001B[39;00m \u001B[38;5;21;01msklearn\u001B[39;00m\u001B[38;5;21;01m.\u001B[39;00m\u001B[38;5;21;01mmetrics\u001B[39;00m\u001B[38;5;21;01m.\u001B[39;00m\u001B[38;5;21;01mpairwise\u001B[39;00m \u001B[38;5;28;01mimport\u001B[39;00m cosine_similarity\n",
      "File \u001B[1;32mC:\\Anaconda\\envs\\mypythonenv\\lib\\site-packages\\pandas\\__init__.py:49\u001B[0m\n\u001B[0;32m     46\u001B[0m \u001B[38;5;66;03m# let init-time option registration happen\u001B[39;00m\n\u001B[0;32m     47\u001B[0m \u001B[38;5;28;01mimport\u001B[39;00m \u001B[38;5;21;01mpandas\u001B[39;00m\u001B[38;5;21;01m.\u001B[39;00m\u001B[38;5;21;01mcore\u001B[39;00m\u001B[38;5;21;01m.\u001B[39;00m\u001B[38;5;21;01mconfig_init\u001B[39;00m  \u001B[38;5;66;03m# pyright: ignore[reportUnusedImport] # noqa: F401\u001B[39;00m\n\u001B[1;32m---> 49\u001B[0m \u001B[38;5;28;01mfrom\u001B[39;00m \u001B[38;5;21;01mpandas\u001B[39;00m\u001B[38;5;21;01m.\u001B[39;00m\u001B[38;5;21;01mcore\u001B[39;00m\u001B[38;5;21;01m.\u001B[39;00m\u001B[38;5;21;01mapi\u001B[39;00m \u001B[38;5;28;01mimport\u001B[39;00m (\n\u001B[0;32m     50\u001B[0m     \u001B[38;5;66;03m# dtype\u001B[39;00m\n\u001B[0;32m     51\u001B[0m     ArrowDtype,\n\u001B[0;32m     52\u001B[0m     Int8Dtype,\n\u001B[0;32m     53\u001B[0m     Int16Dtype,\n\u001B[0;32m     54\u001B[0m     Int32Dtype,\n\u001B[0;32m     55\u001B[0m     Int64Dtype,\n\u001B[0;32m     56\u001B[0m     UInt8Dtype,\n\u001B[0;32m     57\u001B[0m     UInt16Dtype,\n\u001B[0;32m     58\u001B[0m     UInt32Dtype,\n\u001B[0;32m     59\u001B[0m     UInt64Dtype,\n\u001B[0;32m     60\u001B[0m     Float32Dtype,\n\u001B[0;32m     61\u001B[0m     Float64Dtype,\n\u001B[0;32m     62\u001B[0m     CategoricalDtype,\n\u001B[0;32m     63\u001B[0m     PeriodDtype,\n\u001B[0;32m     64\u001B[0m     IntervalDtype,\n\u001B[0;32m     65\u001B[0m     DatetimeTZDtype,\n\u001B[0;32m     66\u001B[0m     StringDtype,\n\u001B[0;32m     67\u001B[0m     BooleanDtype,\n\u001B[0;32m     68\u001B[0m     \u001B[38;5;66;03m# missing\u001B[39;00m\n\u001B[0;32m     69\u001B[0m     NA,\n\u001B[0;32m     70\u001B[0m     isna,\n\u001B[0;32m     71\u001B[0m     isnull,\n\u001B[0;32m     72\u001B[0m     notna,\n\u001B[0;32m     73\u001B[0m     notnull,\n\u001B[0;32m     74\u001B[0m     \u001B[38;5;66;03m# indexes\u001B[39;00m\n\u001B[0;32m     75\u001B[0m     Index,\n\u001B[0;32m     76\u001B[0m     CategoricalIndex,\n\u001B[0;32m     77\u001B[0m     RangeIndex,\n\u001B[0;32m     78\u001B[0m     MultiIndex,\n\u001B[0;32m     79\u001B[0m     IntervalIndex,\n\u001B[0;32m     80\u001B[0m     TimedeltaIndex,\n\u001B[0;32m     81\u001B[0m     DatetimeIndex,\n\u001B[0;32m     82\u001B[0m     PeriodIndex,\n\u001B[0;32m     83\u001B[0m     IndexSlice,\n\u001B[0;32m     84\u001B[0m     \u001B[38;5;66;03m# tseries\u001B[39;00m\n\u001B[0;32m     85\u001B[0m     NaT,\n\u001B[0;32m     86\u001B[0m     Period,\n\u001B[0;32m     87\u001B[0m     period_range,\n\u001B[0;32m     88\u001B[0m     Timedelta,\n\u001B[0;32m     89\u001B[0m     timedelta_range,\n\u001B[0;32m     90\u001B[0m     Timestamp,\n\u001B[0;32m     91\u001B[0m     date_range,\n\u001B[0;32m     92\u001B[0m     bdate_range,\n\u001B[0;32m     93\u001B[0m     Interval,\n\u001B[0;32m     94\u001B[0m     interval_range,\n\u001B[0;32m     95\u001B[0m     DateOffset,\n\u001B[0;32m     96\u001B[0m     \u001B[38;5;66;03m# conversion\u001B[39;00m\n\u001B[0;32m     97\u001B[0m     to_numeric,\n\u001B[0;32m     98\u001B[0m     to_datetime,\n\u001B[0;32m     99\u001B[0m     to_timedelta,\n\u001B[0;32m    100\u001B[0m     \u001B[38;5;66;03m# misc\u001B[39;00m\n\u001B[0;32m    101\u001B[0m     Flags,\n\u001B[0;32m    102\u001B[0m     Grouper,\n\u001B[0;32m    103\u001B[0m     factorize,\n\u001B[0;32m    104\u001B[0m     unique,\n\u001B[0;32m    105\u001B[0m     value_counts,\n\u001B[0;32m    106\u001B[0m     NamedAgg,\n\u001B[0;32m    107\u001B[0m     array,\n\u001B[0;32m    108\u001B[0m     Categorical,\n\u001B[0;32m    109\u001B[0m     set_eng_float_format,\n\u001B[0;32m    110\u001B[0m     Series,\n\u001B[0;32m    111\u001B[0m     DataFrame,\n\u001B[0;32m    112\u001B[0m )\n\u001B[0;32m    114\u001B[0m \u001B[38;5;28;01mfrom\u001B[39;00m \u001B[38;5;21;01mpandas\u001B[39;00m\u001B[38;5;21;01m.\u001B[39;00m\u001B[38;5;21;01mcore\u001B[39;00m\u001B[38;5;21;01m.\u001B[39;00m\u001B[38;5;21;01mdtypes\u001B[39;00m\u001B[38;5;21;01m.\u001B[39;00m\u001B[38;5;21;01mdtypes\u001B[39;00m \u001B[38;5;28;01mimport\u001B[39;00m SparseDtype\n\u001B[0;32m    116\u001B[0m \u001B[38;5;28;01mfrom\u001B[39;00m \u001B[38;5;21;01mpandas\u001B[39;00m\u001B[38;5;21;01m.\u001B[39;00m\u001B[38;5;21;01mtseries\u001B[39;00m\u001B[38;5;21;01m.\u001B[39;00m\u001B[38;5;21;01mapi\u001B[39;00m \u001B[38;5;28;01mimport\u001B[39;00m infer_freq\n",
      "File \u001B[1;32mC:\\Anaconda\\envs\\mypythonenv\\lib\\site-packages\\pandas\\core\\api.py:47\u001B[0m\n\u001B[0;32m     45\u001B[0m \u001B[38;5;28;01mfrom\u001B[39;00m \u001B[38;5;21;01mpandas\u001B[39;00m\u001B[38;5;21;01m.\u001B[39;00m\u001B[38;5;21;01mcore\u001B[39;00m\u001B[38;5;21;01m.\u001B[39;00m\u001B[38;5;21;01mconstruction\u001B[39;00m \u001B[38;5;28;01mimport\u001B[39;00m array\n\u001B[0;32m     46\u001B[0m \u001B[38;5;28;01mfrom\u001B[39;00m \u001B[38;5;21;01mpandas\u001B[39;00m\u001B[38;5;21;01m.\u001B[39;00m\u001B[38;5;21;01mcore\u001B[39;00m\u001B[38;5;21;01m.\u001B[39;00m\u001B[38;5;21;01mflags\u001B[39;00m \u001B[38;5;28;01mimport\u001B[39;00m Flags\n\u001B[1;32m---> 47\u001B[0m \u001B[38;5;28;01mfrom\u001B[39;00m \u001B[38;5;21;01mpandas\u001B[39;00m\u001B[38;5;21;01m.\u001B[39;00m\u001B[38;5;21;01mcore\u001B[39;00m\u001B[38;5;21;01m.\u001B[39;00m\u001B[38;5;21;01mgroupby\u001B[39;00m \u001B[38;5;28;01mimport\u001B[39;00m (\n\u001B[0;32m     48\u001B[0m     Grouper,\n\u001B[0;32m     49\u001B[0m     NamedAgg,\n\u001B[0;32m     50\u001B[0m )\n\u001B[0;32m     51\u001B[0m \u001B[38;5;28;01mfrom\u001B[39;00m \u001B[38;5;21;01mpandas\u001B[39;00m\u001B[38;5;21;01m.\u001B[39;00m\u001B[38;5;21;01mcore\u001B[39;00m\u001B[38;5;21;01m.\u001B[39;00m\u001B[38;5;21;01mindexes\u001B[39;00m\u001B[38;5;21;01m.\u001B[39;00m\u001B[38;5;21;01mapi\u001B[39;00m \u001B[38;5;28;01mimport\u001B[39;00m (\n\u001B[0;32m     52\u001B[0m     CategoricalIndex,\n\u001B[0;32m     53\u001B[0m     DatetimeIndex,\n\u001B[1;32m   (...)\u001B[0m\n\u001B[0;32m     59\u001B[0m     TimedeltaIndex,\n\u001B[0;32m     60\u001B[0m )\n\u001B[0;32m     61\u001B[0m \u001B[38;5;28;01mfrom\u001B[39;00m \u001B[38;5;21;01mpandas\u001B[39;00m\u001B[38;5;21;01m.\u001B[39;00m\u001B[38;5;21;01mcore\u001B[39;00m\u001B[38;5;21;01m.\u001B[39;00m\u001B[38;5;21;01mindexes\u001B[39;00m\u001B[38;5;21;01m.\u001B[39;00m\u001B[38;5;21;01mdatetimes\u001B[39;00m \u001B[38;5;28;01mimport\u001B[39;00m (\n\u001B[0;32m     62\u001B[0m     bdate_range,\n\u001B[0;32m     63\u001B[0m     date_range,\n\u001B[0;32m     64\u001B[0m )\n",
      "File \u001B[1;32mC:\\Anaconda\\envs\\mypythonenv\\lib\\site-packages\\pandas\\core\\groupby\\__init__.py:1\u001B[0m\n\u001B[1;32m----> 1\u001B[0m \u001B[38;5;28;01mfrom\u001B[39;00m \u001B[38;5;21;01mpandas\u001B[39;00m\u001B[38;5;21;01m.\u001B[39;00m\u001B[38;5;21;01mcore\u001B[39;00m\u001B[38;5;21;01m.\u001B[39;00m\u001B[38;5;21;01mgroupby\u001B[39;00m\u001B[38;5;21;01m.\u001B[39;00m\u001B[38;5;21;01mgeneric\u001B[39;00m \u001B[38;5;28;01mimport\u001B[39;00m (\n\u001B[0;32m      2\u001B[0m     DataFrameGroupBy,\n\u001B[0;32m      3\u001B[0m     NamedAgg,\n\u001B[0;32m      4\u001B[0m     SeriesGroupBy,\n\u001B[0;32m      5\u001B[0m )\n\u001B[0;32m      6\u001B[0m \u001B[38;5;28;01mfrom\u001B[39;00m \u001B[38;5;21;01mpandas\u001B[39;00m\u001B[38;5;21;01m.\u001B[39;00m\u001B[38;5;21;01mcore\u001B[39;00m\u001B[38;5;21;01m.\u001B[39;00m\u001B[38;5;21;01mgroupby\u001B[39;00m\u001B[38;5;21;01m.\u001B[39;00m\u001B[38;5;21;01mgroupby\u001B[39;00m \u001B[38;5;28;01mimport\u001B[39;00m GroupBy\n\u001B[0;32m      7\u001B[0m \u001B[38;5;28;01mfrom\u001B[39;00m \u001B[38;5;21;01mpandas\u001B[39;00m\u001B[38;5;21;01m.\u001B[39;00m\u001B[38;5;21;01mcore\u001B[39;00m\u001B[38;5;21;01m.\u001B[39;00m\u001B[38;5;21;01mgroupby\u001B[39;00m\u001B[38;5;21;01m.\u001B[39;00m\u001B[38;5;21;01mgrouper\u001B[39;00m \u001B[38;5;28;01mimport\u001B[39;00m Grouper\n",
      "File \u001B[1;32mC:\\Anaconda\\envs\\mypythonenv\\lib\\site-packages\\pandas\\core\\groupby\\generic.py:68\u001B[0m\n\u001B[0;32m     60\u001B[0m \u001B[38;5;28;01mfrom\u001B[39;00m \u001B[38;5;21;01mpandas\u001B[39;00m\u001B[38;5;21;01m.\u001B[39;00m\u001B[38;5;21;01mcore\u001B[39;00m\u001B[38;5;21;01m.\u001B[39;00m\u001B[38;5;21;01mapply\u001B[39;00m \u001B[38;5;28;01mimport\u001B[39;00m (\n\u001B[0;32m     61\u001B[0m     GroupByApply,\n\u001B[0;32m     62\u001B[0m     maybe_mangle_lambdas,\n\u001B[1;32m   (...)\u001B[0m\n\u001B[0;32m     65\u001B[0m     warn_alias_replacement,\n\u001B[0;32m     66\u001B[0m )\n\u001B[0;32m     67\u001B[0m \u001B[38;5;28;01mimport\u001B[39;00m \u001B[38;5;21;01mpandas\u001B[39;00m\u001B[38;5;21;01m.\u001B[39;00m\u001B[38;5;21;01mcore\u001B[39;00m\u001B[38;5;21;01m.\u001B[39;00m\u001B[38;5;21;01mcommon\u001B[39;00m \u001B[38;5;28;01mas\u001B[39;00m \u001B[38;5;21;01mcom\u001B[39;00m\n\u001B[1;32m---> 68\u001B[0m \u001B[38;5;28;01mfrom\u001B[39;00m \u001B[38;5;21;01mpandas\u001B[39;00m\u001B[38;5;21;01m.\u001B[39;00m\u001B[38;5;21;01mcore\u001B[39;00m\u001B[38;5;21;01m.\u001B[39;00m\u001B[38;5;21;01mframe\u001B[39;00m \u001B[38;5;28;01mimport\u001B[39;00m DataFrame\n\u001B[0;32m     69\u001B[0m \u001B[38;5;28;01mfrom\u001B[39;00m \u001B[38;5;21;01mpandas\u001B[39;00m\u001B[38;5;21;01m.\u001B[39;00m\u001B[38;5;21;01mcore\u001B[39;00m\u001B[38;5;21;01m.\u001B[39;00m\u001B[38;5;21;01mgroupby\u001B[39;00m \u001B[38;5;28;01mimport\u001B[39;00m (\n\u001B[0;32m     70\u001B[0m     base,\n\u001B[0;32m     71\u001B[0m     ops,\n\u001B[0;32m     72\u001B[0m )\n\u001B[0;32m     73\u001B[0m \u001B[38;5;28;01mfrom\u001B[39;00m \u001B[38;5;21;01mpandas\u001B[39;00m\u001B[38;5;21;01m.\u001B[39;00m\u001B[38;5;21;01mcore\u001B[39;00m\u001B[38;5;21;01m.\u001B[39;00m\u001B[38;5;21;01mgroupby\u001B[39;00m\u001B[38;5;21;01m.\u001B[39;00m\u001B[38;5;21;01mgroupby\u001B[39;00m \u001B[38;5;28;01mimport\u001B[39;00m (\n\u001B[0;32m     74\u001B[0m     GroupBy,\n\u001B[0;32m     75\u001B[0m     GroupByPlot,\n\u001B[1;32m   (...)\u001B[0m\n\u001B[0;32m     79\u001B[0m     _transform_template,\n\u001B[0;32m     80\u001B[0m )\n",
      "File \u001B[1;32mC:\\Anaconda\\envs\\mypythonenv\\lib\\site-packages\\pandas\\core\\frame.py:149\u001B[0m\n\u001B[0;32m    143\u001B[0m \u001B[38;5;28;01mfrom\u001B[39;00m \u001B[38;5;21;01mpandas\u001B[39;00m\u001B[38;5;21;01m.\u001B[39;00m\u001B[38;5;21;01mcore\u001B[39;00m\u001B[38;5;21;01m.\u001B[39;00m\u001B[38;5;21;01marrays\u001B[39;00m\u001B[38;5;21;01m.\u001B[39;00m\u001B[38;5;21;01msparse\u001B[39;00m \u001B[38;5;28;01mimport\u001B[39;00m SparseFrameAccessor\n\u001B[0;32m    144\u001B[0m \u001B[38;5;28;01mfrom\u001B[39;00m \u001B[38;5;21;01mpandas\u001B[39;00m\u001B[38;5;21;01m.\u001B[39;00m\u001B[38;5;21;01mcore\u001B[39;00m\u001B[38;5;21;01m.\u001B[39;00m\u001B[38;5;21;01mconstruction\u001B[39;00m \u001B[38;5;28;01mimport\u001B[39;00m (\n\u001B[0;32m    145\u001B[0m     ensure_wrapped_if_datetimelike,\n\u001B[0;32m    146\u001B[0m     sanitize_array,\n\u001B[0;32m    147\u001B[0m     sanitize_masked_array,\n\u001B[0;32m    148\u001B[0m )\n\u001B[1;32m--> 149\u001B[0m \u001B[38;5;28;01mfrom\u001B[39;00m \u001B[38;5;21;01mpandas\u001B[39;00m\u001B[38;5;21;01m.\u001B[39;00m\u001B[38;5;21;01mcore\u001B[39;00m\u001B[38;5;21;01m.\u001B[39;00m\u001B[38;5;21;01mgeneric\u001B[39;00m \u001B[38;5;28;01mimport\u001B[39;00m (\n\u001B[0;32m    150\u001B[0m     NDFrame,\n\u001B[0;32m    151\u001B[0m     make_doc,\n\u001B[0;32m    152\u001B[0m )\n\u001B[0;32m    153\u001B[0m \u001B[38;5;28;01mfrom\u001B[39;00m \u001B[38;5;21;01mpandas\u001B[39;00m\u001B[38;5;21;01m.\u001B[39;00m\u001B[38;5;21;01mcore\u001B[39;00m\u001B[38;5;21;01m.\u001B[39;00m\u001B[38;5;21;01mindexers\u001B[39;00m \u001B[38;5;28;01mimport\u001B[39;00m check_key_length\n\u001B[0;32m    154\u001B[0m \u001B[38;5;28;01mfrom\u001B[39;00m \u001B[38;5;21;01mpandas\u001B[39;00m\u001B[38;5;21;01m.\u001B[39;00m\u001B[38;5;21;01mcore\u001B[39;00m\u001B[38;5;21;01m.\u001B[39;00m\u001B[38;5;21;01mindexes\u001B[39;00m\u001B[38;5;21;01m.\u001B[39;00m\u001B[38;5;21;01mapi\u001B[39;00m \u001B[38;5;28;01mimport\u001B[39;00m (\n\u001B[0;32m    155\u001B[0m     DatetimeIndex,\n\u001B[0;32m    156\u001B[0m     Index,\n\u001B[1;32m   (...)\u001B[0m\n\u001B[0;32m    160\u001B[0m     ensure_index_from_sequences,\n\u001B[0;32m    161\u001B[0m )\n",
      "File \u001B[1;32mC:\\Anaconda\\envs\\mypythonenv\\lib\\site-packages\\pandas\\core\\generic.py:152\u001B[0m\n\u001B[0;32m    143\u001B[0m \u001B[38;5;28;01mfrom\u001B[39;00m \u001B[38;5;21;01mpandas\u001B[39;00m\u001B[38;5;21;01m.\u001B[39;00m\u001B[38;5;21;01mcore\u001B[39;00m\u001B[38;5;21;01m.\u001B[39;00m\u001B[38;5;21;01mdtypes\u001B[39;00m\u001B[38;5;21;01m.\u001B[39;00m\u001B[38;5;21;01minference\u001B[39;00m \u001B[38;5;28;01mimport\u001B[39;00m (\n\u001B[0;32m    144\u001B[0m     is_hashable,\n\u001B[0;32m    145\u001B[0m     is_nested_list_like,\n\u001B[0;32m    146\u001B[0m )\n\u001B[0;32m    147\u001B[0m \u001B[38;5;28;01mfrom\u001B[39;00m \u001B[38;5;21;01mpandas\u001B[39;00m\u001B[38;5;21;01m.\u001B[39;00m\u001B[38;5;21;01mcore\u001B[39;00m\u001B[38;5;21;01m.\u001B[39;00m\u001B[38;5;21;01mdtypes\u001B[39;00m\u001B[38;5;21;01m.\u001B[39;00m\u001B[38;5;21;01mmissing\u001B[39;00m \u001B[38;5;28;01mimport\u001B[39;00m (\n\u001B[0;32m    148\u001B[0m     isna,\n\u001B[0;32m    149\u001B[0m     notna,\n\u001B[0;32m    150\u001B[0m )\n\u001B[1;32m--> 152\u001B[0m \u001B[38;5;28;01mfrom\u001B[39;00m \u001B[38;5;21;01mpandas\u001B[39;00m\u001B[38;5;21;01m.\u001B[39;00m\u001B[38;5;21;01mcore\u001B[39;00m \u001B[38;5;28;01mimport\u001B[39;00m (\n\u001B[0;32m    153\u001B[0m     algorithms \u001B[38;5;28;01mas\u001B[39;00m algos,\n\u001B[0;32m    154\u001B[0m     arraylike,\n\u001B[0;32m    155\u001B[0m     common,\n\u001B[0;32m    156\u001B[0m     indexing,\n\u001B[0;32m    157\u001B[0m     missing,\n\u001B[0;32m    158\u001B[0m     nanops,\n\u001B[0;32m    159\u001B[0m     sample,\n\u001B[0;32m    160\u001B[0m )\n\u001B[0;32m    161\u001B[0m \u001B[38;5;28;01mfrom\u001B[39;00m \u001B[38;5;21;01mpandas\u001B[39;00m\u001B[38;5;21;01m.\u001B[39;00m\u001B[38;5;21;01mcore\u001B[39;00m\u001B[38;5;21;01m.\u001B[39;00m\u001B[38;5;21;01marray_algos\u001B[39;00m\u001B[38;5;21;01m.\u001B[39;00m\u001B[38;5;21;01mreplace\u001B[39;00m \u001B[38;5;28;01mimport\u001B[39;00m should_use_regex\n\u001B[0;32m    162\u001B[0m \u001B[38;5;28;01mfrom\u001B[39;00m \u001B[38;5;21;01mpandas\u001B[39;00m\u001B[38;5;21;01m.\u001B[39;00m\u001B[38;5;21;01mcore\u001B[39;00m\u001B[38;5;21;01m.\u001B[39;00m\u001B[38;5;21;01marrays\u001B[39;00m \u001B[38;5;28;01mimport\u001B[39;00m ExtensionArray\n",
      "File \u001B[1;32mC:\\Anaconda\\envs\\mypythonenv\\lib\\site-packages\\pandas\\core\\indexing.py:79\u001B[0m\n\u001B[0;32m     69\u001B[0m \u001B[38;5;28;01mfrom\u001B[39;00m \u001B[38;5;21;01mpandas\u001B[39;00m\u001B[38;5;21;01m.\u001B[39;00m\u001B[38;5;21;01mcore\u001B[39;00m\u001B[38;5;21;01m.\u001B[39;00m\u001B[38;5;21;01mconstruction\u001B[39;00m \u001B[38;5;28;01mimport\u001B[39;00m (\n\u001B[0;32m     70\u001B[0m     array \u001B[38;5;28;01mas\u001B[39;00m pd_array,\n\u001B[0;32m     71\u001B[0m     extract_array,\n\u001B[0;32m     72\u001B[0m )\n\u001B[0;32m     73\u001B[0m \u001B[38;5;28;01mfrom\u001B[39;00m \u001B[38;5;21;01mpandas\u001B[39;00m\u001B[38;5;21;01m.\u001B[39;00m\u001B[38;5;21;01mcore\u001B[39;00m\u001B[38;5;21;01m.\u001B[39;00m\u001B[38;5;21;01mindexers\u001B[39;00m \u001B[38;5;28;01mimport\u001B[39;00m (\n\u001B[0;32m     74\u001B[0m     check_array_indexer,\n\u001B[0;32m     75\u001B[0m     is_list_like_indexer,\n\u001B[0;32m     76\u001B[0m     is_scalar_indexer,\n\u001B[0;32m     77\u001B[0m     length_of_indexer,\n\u001B[0;32m     78\u001B[0m )\n\u001B[1;32m---> 79\u001B[0m \u001B[38;5;28;01mfrom\u001B[39;00m \u001B[38;5;21;01mpandas\u001B[39;00m\u001B[38;5;21;01m.\u001B[39;00m\u001B[38;5;21;01mcore\u001B[39;00m\u001B[38;5;21;01m.\u001B[39;00m\u001B[38;5;21;01mindexes\u001B[39;00m\u001B[38;5;21;01m.\u001B[39;00m\u001B[38;5;21;01mapi\u001B[39;00m \u001B[38;5;28;01mimport\u001B[39;00m (\n\u001B[0;32m     80\u001B[0m     Index,\n\u001B[0;32m     81\u001B[0m     MultiIndex,\n\u001B[0;32m     82\u001B[0m )\n\u001B[0;32m     84\u001B[0m \u001B[38;5;28;01mif\u001B[39;00m TYPE_CHECKING:\n\u001B[0;32m     85\u001B[0m     \u001B[38;5;28;01mfrom\u001B[39;00m \u001B[38;5;21;01mcollections\u001B[39;00m\u001B[38;5;21;01m.\u001B[39;00m\u001B[38;5;21;01mabc\u001B[39;00m \u001B[38;5;28;01mimport\u001B[39;00m (\n\u001B[0;32m     86\u001B[0m         Hashable,\n\u001B[0;32m     87\u001B[0m         Sequence,\n\u001B[0;32m     88\u001B[0m     )\n",
      "File \u001B[1;32mC:\\Anaconda\\envs\\mypythonenv\\lib\\site-packages\\pandas\\core\\indexes\\api.py:20\u001B[0m\n\u001B[0;32m     17\u001B[0m \u001B[38;5;28;01mfrom\u001B[39;00m \u001B[38;5;21;01mpandas\u001B[39;00m\u001B[38;5;21;01m.\u001B[39;00m\u001B[38;5;21;01mcore\u001B[39;00m\u001B[38;5;21;01m.\u001B[39;00m\u001B[38;5;21;01mdtypes\u001B[39;00m\u001B[38;5;21;01m.\u001B[39;00m\u001B[38;5;21;01mcast\u001B[39;00m \u001B[38;5;28;01mimport\u001B[39;00m find_common_type\n\u001B[0;32m     19\u001B[0m \u001B[38;5;28;01mfrom\u001B[39;00m \u001B[38;5;21;01mpandas\u001B[39;00m\u001B[38;5;21;01m.\u001B[39;00m\u001B[38;5;21;01mcore\u001B[39;00m\u001B[38;5;21;01m.\u001B[39;00m\u001B[38;5;21;01malgorithms\u001B[39;00m \u001B[38;5;28;01mimport\u001B[39;00m safe_sort\n\u001B[1;32m---> 20\u001B[0m \u001B[38;5;28;01mfrom\u001B[39;00m \u001B[38;5;21;01mpandas\u001B[39;00m\u001B[38;5;21;01m.\u001B[39;00m\u001B[38;5;21;01mcore\u001B[39;00m\u001B[38;5;21;01m.\u001B[39;00m\u001B[38;5;21;01mindexes\u001B[39;00m\u001B[38;5;21;01m.\u001B[39;00m\u001B[38;5;21;01mbase\u001B[39;00m \u001B[38;5;28;01mimport\u001B[39;00m (\n\u001B[0;32m     21\u001B[0m     Index,\n\u001B[0;32m     22\u001B[0m     _new_Index,\n\u001B[0;32m     23\u001B[0m     ensure_index,\n\u001B[0;32m     24\u001B[0m     ensure_index_from_sequences,\n\u001B[0;32m     25\u001B[0m     get_unanimous_names,\n\u001B[0;32m     26\u001B[0m )\n\u001B[0;32m     27\u001B[0m \u001B[38;5;28;01mfrom\u001B[39;00m \u001B[38;5;21;01mpandas\u001B[39;00m\u001B[38;5;21;01m.\u001B[39;00m\u001B[38;5;21;01mcore\u001B[39;00m\u001B[38;5;21;01m.\u001B[39;00m\u001B[38;5;21;01mindexes\u001B[39;00m\u001B[38;5;21;01m.\u001B[39;00m\u001B[38;5;21;01mcategory\u001B[39;00m \u001B[38;5;28;01mimport\u001B[39;00m CategoricalIndex\n\u001B[0;32m     28\u001B[0m \u001B[38;5;28;01mfrom\u001B[39;00m \u001B[38;5;21;01mpandas\u001B[39;00m\u001B[38;5;21;01m.\u001B[39;00m\u001B[38;5;21;01mcore\u001B[39;00m\u001B[38;5;21;01m.\u001B[39;00m\u001B[38;5;21;01mindexes\u001B[39;00m\u001B[38;5;21;01m.\u001B[39;00m\u001B[38;5;21;01mdatetimes\u001B[39;00m \u001B[38;5;28;01mimport\u001B[39;00m DatetimeIndex\n",
      "File \u001B[1;32mC:\\Anaconda\\envs\\mypythonenv\\lib\\site-packages\\pandas\\core\\indexes\\base.py:29\u001B[0m\n\u001B[0;32m     21\u001B[0m \u001B[38;5;28;01mimport\u001B[39;00m \u001B[38;5;21;01mnumpy\u001B[39;00m \u001B[38;5;28;01mas\u001B[39;00m \u001B[38;5;21;01mnp\u001B[39;00m\n\u001B[0;32m     23\u001B[0m \u001B[38;5;28;01mfrom\u001B[39;00m \u001B[38;5;21;01mpandas\u001B[39;00m\u001B[38;5;21;01m.\u001B[39;00m\u001B[38;5;21;01m_config\u001B[39;00m \u001B[38;5;28;01mimport\u001B[39;00m (\n\u001B[0;32m     24\u001B[0m     get_option,\n\u001B[0;32m     25\u001B[0m     using_copy_on_write,\n\u001B[0;32m     26\u001B[0m     using_pyarrow_string_dtype,\n\u001B[0;32m     27\u001B[0m )\n\u001B[1;32m---> 29\u001B[0m \u001B[38;5;28;01mfrom\u001B[39;00m \u001B[38;5;21;01mpandas\u001B[39;00m\u001B[38;5;21;01m.\u001B[39;00m\u001B[38;5;21;01m_libs\u001B[39;00m \u001B[38;5;28;01mimport\u001B[39;00m (\n\u001B[0;32m     30\u001B[0m     NaT,\n\u001B[0;32m     31\u001B[0m     algos \u001B[38;5;28;01mas\u001B[39;00m libalgos,\n\u001B[0;32m     32\u001B[0m     index \u001B[38;5;28;01mas\u001B[39;00m libindex,\n\u001B[0;32m     33\u001B[0m     lib,\n\u001B[0;32m     34\u001B[0m     writers,\n\u001B[0;32m     35\u001B[0m )\n\u001B[0;32m     36\u001B[0m \u001B[38;5;28;01mfrom\u001B[39;00m \u001B[38;5;21;01mpandas\u001B[39;00m\u001B[38;5;21;01m.\u001B[39;00m\u001B[38;5;21;01m_libs\u001B[39;00m\u001B[38;5;21;01m.\u001B[39;00m\u001B[38;5;21;01minternals\u001B[39;00m \u001B[38;5;28;01mimport\u001B[39;00m BlockValuesRefs\n\u001B[0;32m     37\u001B[0m \u001B[38;5;28;01mimport\u001B[39;00m \u001B[38;5;21;01mpandas\u001B[39;00m\u001B[38;5;21;01m.\u001B[39;00m\u001B[38;5;21;01m_libs\u001B[39;00m\u001B[38;5;21;01m.\u001B[39;00m\u001B[38;5;21;01mjoin\u001B[39;00m \u001B[38;5;28;01mas\u001B[39;00m \u001B[38;5;21;01mlibjoin\u001B[39;00m\n",
      "File \u001B[1;32m<frozen importlib._bootstrap>:404\u001B[0m, in \u001B[0;36mparent\u001B[1;34m(self)\u001B[0m\n",
      "\u001B[1;31mKeyboardInterrupt\u001B[0m: "
     ]
    }
   ],
   "execution_count": 1
  },
  {
   "metadata": {
    "ExecuteTime": {
     "end_time": "2024-11-21T04:15:40.403896Z",
     "start_time": "2024-11-21T04:15:39.455492Z"
    }
   },
   "cell_type": "code",
   "source": [
    "# Usage Example\n",
    "if __name__ == \"__main__\":\n",
    "    user_data = pd.read_csv('../user_data.csv')\n",
    "    ratings_data = pd.read_csv('../ratings_test.csv')\n",
    "    product_data = pd.read_csv('../test_data.csv')\n",
    "    # Initialize the model\n",
    "    model = RecommendationModel(user_data, ratings_data, product_data)\n",
    "    # Save the model to a file\n",
    "    model.save('D:/RecommendModel/Saved_model/interest_recommendation_model.pkl')\n",
    "    # Load the model from the file\n",
    "    # Example user info\n",
    "    user_info = {\n",
    "        'age': 22,\n",
    "        'gender': 'female',\n",
    "        'city': 'thomasville',\n",
    "        'country': 'us',\n",
    "        'interest': '18,19'\n",
    "    }\n",
    "    # Generate recommendations\n",
    "    recommendation_interest = model.recommend(user_info, top_n=20)\n",
    "    print(\"Collaborative Recommendations:\", recommendation_interest['collaborative'])\n",
    "    print(\"Interest-Based Recommendations:\", recommendation_interest['interest_based'])"
   ],
   "id": "2e735651f1b2a9f6",
   "outputs": [
    {
     "name": "stdout",
     "output_type": "stream",
     "text": [
      "Collaborative Recommendations: [['app250928', 'Black + Decker 2000 Watts Ceramic Room Heater with Digital Control- Black'], ['acs106891', \"HUSIRE'S Scrunchies Watch Classic & Unique Scrunchies Watches Strap Cloth Soft Pattern Solid Fabric Wristband I Watch Cute...\"], ['acs245060', 'The A P Exim Commercials Reusable Jacquard Cotton Boxy Tote Bag for Women | Printed Multipurpose Handbag | Box Bag |Tote B...'], ['ggf196312', \"Shara's Dry Fruits Broken Cashews Nuts Kaju Tukda, 250g - 4 Pieces\"], ['app253530', 'Wonderchef Electric Kettle Crimson Edge, Stainless Steel, With Auto-Shut Off, 2-Level Safety, Cool-Touch, 1.7 Litres, 1 Ye...'], ['acs157229', 'Delsey Banjul Denier Polyester 78 CM 4 Wheels Red Soft Suitcase'], ['acs010207', 'Zivom® Leather Silver Plated Bracelet for Unisex Adult'], ['hkt067539', 'Oc9 Set of 4 Measuring Cup and 4 Measuring Spoon Silver (Stainless Steel)'], ['hkt204108', 'AMFIN® (Pack of 8) Happy Birthday Printed Pastel Color Candle with Holder for Birthday Cake Topper Accessories / Candles f...'], ['acs185415', 'Sidharth Gems 8.25 Ratti 7.00 Carat Cultured Yellow Sapphire Gemstone Certified Cultured Pukhraj Stone Lab Tested Astrolog...'], ['acs226990', 'Puma Unisex-Adult Bi-Fold Wallet IND I, Dark Denim-Heather, X (5404902)'], ['ind205074', 'UTC Digital Rotometer, Flow Meter, 4 Inches Reading Map, Measuring Range Indicator Instrument'], ['ggf153700', 'Bliss Of Earth Mexican Pecan Nuts 500 gm, Raw & Dehulled Pecan Halves, Flavonoids Rich Super Food'], ['acs003283', 'Women’s Girls Fashion PU Leather Mini Casual Meow Backpack Bags For School, College,office'], ['ind120012', 'Sky-Clean Room Wiper Wiping Cloth 9-inch x 9-inch 300 Pcs White'], ['acs172405', 'Eitheo Cute Baby Silicon Sling Bag | Cross Body Zipper | Hand Bag | Travel Purse | Trendy Girls Pouch Bag (Assorted Color)'], ['cmb091734', 'Eknoor Acrylic Gold Plated Hanuman ji with Prayer Beads Car Dashboard Idol (4 cm x 8 cm x 6.5 cm, Multicolour)'], ['acs068708', \"Lavie Women's Pearl Flap Satchel\"], ['acs227005', \"Caprese Women's Sling Bag (Coral)\"], ['acs050091', \"ZOUK Handmade Vegan Leather Chittoor Red Kalamkari Print Women's Sling Bags With Adjustable Shoulder Strap\"]]\n",
      "Interest-Based Recommendations: [['wcl147640', \"Rushwak Women's Soft Silicone Bra Strap Cushions Holder Bra Set Strap Holder Light Weight Non-Slip Safe Shoulder Pads Free...\"], ['wcl040115', \"Rushwak Women's Soft Silicone Bra Strap Cushions Holder Bra Set Strap Holder Light Weight Non-Slip Safe Shoulder Pads Free...\"], ['wcl006268', 'SATPURUSH Lycra Saree Shapewear Petticoat for Women, Cotton Blended,Petticoat,Skirts for Women,Shape Wear Dress for Saree'], ['wcl177074', \"Yashika women's Art Silk Saree With Blouse Piece\"], ['wcl121491', \"Yashika women's Art Silk Saree With Blouse Piece\"], ['wcl234739', 'KTRIKSHA Crepe Printed A-Line Kurti for Women - Stylish and Comfortable Indian Ethnic Wear'], ['wcl056855', 'ORZIX Fashion Dressing Tape/Invisible Double-Sided Body Tape (Fabric and Skin Friendly) Double Sided Tape for Clothes Dres...'], ['wcl023357', \"Amayra Women's Rayon Embroidery Kurti with Palazzos and Dupatta Set\"], ['wcl085645', \"Shasmi Women's & Girls' White Short Puff Sleeve, One Shoulder Neck, Ruched Bust Solid Tops for Women/Tops, T-Shirts for Gi...\"], ['wcl011534', \"SGF11 Women's Kanjivaram Soft Lichi Silk Saree With Blouse Piece (New Look)\"], ['wcl173189', \"SAFERSKY® Women's Soft Cotton Bra Panty Set for Women Cotton Stretch Non-Padded Non-Wired Bra Panty Set Best Lingerie Set ...\"], ['wcl215589', 'QAZMI Kashmiri Embroidered Georgette Kurta'], ['wcl223717', \"VIBRAL Cotton Lingerie Set for Women Full Padded Wire Free Bra Panty Set for Women's\"], ['wcl252727', 'Cream with Red Floral Silk Stole for Women'], ['wcl111897', 'GRECIILOOKS Pajama Set for Woman - Lycra Printed Hooded Long Sleeve Top & Pajama Jogging Track Outfit for Girls Suitable f...'], ['wcl082998', 'Nisixdec No Show Underwear for Women Seamless High Cut Briefs Mid-Waist Soft No Panty Lines,Pack of 5'], ['wcl224565', 'Nisixdec No Show Underwear for Women Seamless High Cut Briefs Mid-Waist Soft No Panty Lines,Pack of 5'], ['wcl093113', 'Lymio Tops for Women || Tops for Women Women Tops || Tops || top for Women || top || Women top (602-607)'], ['wcl256961', 'Bureaucrat Boob Tape + Reusable Silicone Nipple Covers, Cotton Spandex Multipurpose Breast Lift Booby Lifting Push-up Skin...'], ['wcl083587', 'HSR Womens Multi Color Short Sleeve Tops Crew Neck Casual Comfy Slim Fit Top (Free Size)']]\n"
     ]
    }
   ],
   "execution_count": 2
  },
  {
   "metadata": {
    "ExecuteTime": {
     "end_time": "2024-11-20T13:03:24.665269Z",
     "start_time": "2024-11-20T13:03:24.562198Z"
    }
   },
   "cell_type": "code",
   "source": [
    "# import pickle\n",
    "# user_data = pd.read_csv('user_data.csv')\n",
    "# ratings_data = pd.read_csv('ratings_test.csv')\n",
    "# product_data = pd.read_csv('test_data.csv')\n",
    "# Assuming the class is named RecommendationModel and initialized like this:\n",
    "model = RecommendationModel(\n",
    "    user_data=user_data,\n",
    "    product_data=product_data,\n",
    "    ratings_data=ratings_data\n",
    ")\n",
    "\n",
    "# Save the model to a pickle file\n",
    "with open('D:/RecommendModel/Saved_model/recommendation_interest_model.pkl', 'wb') as f:\n",
    "    pickle.dump(model, f)\n",
    "\n",
    "print(\"Model saved to recommendation_interest_model.pkl\")\n"
   ],
   "id": "7613510caaf43af0",
   "outputs": [
    {
     "name": "stdout",
     "output_type": "stream",
     "text": [
      "Model saved to recommendation_interest_model.pkl\n"
     ]
    }
   ],
   "execution_count": 4
  },
  {
   "metadata": {},
   "cell_type": "code",
   "outputs": [],
   "execution_count": null,
   "source": "",
   "id": "69222ffe4c207846"
  }
 ],
 "metadata": {
  "kernelspec": {
   "display_name": "Python 3",
   "language": "python",
   "name": "python3"
  },
  "language_info": {
   "codemirror_mode": {
    "name": "ipython",
    "version": 2
   },
   "file_extension": ".py",
   "mimetype": "text/x-python",
   "name": "python",
   "nbconvert_exporter": "python",
   "pygments_lexer": "ipython2",
   "version": "2.7.6"
  }
 },
 "nbformat": 4,
 "nbformat_minor": 5
}
