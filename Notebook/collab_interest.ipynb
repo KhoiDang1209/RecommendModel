{
 "cells": [
  {
   "cell_type": "code",
   "id": "initial_id",
   "metadata": {
    "collapsed": true,
    "ExecuteTime": {
     "end_time": "2024-11-19T09:46:23.024138Z",
     "start_time": "2024-11-19T09:46:22.596058Z"
    }
   },
   "source": [
    "import pandas as pd\n",
    "from sklearn.metrics.pairwise import cosine_similarity\n",
    "encoded_main_category = pd.read_csv('../encoded_main_category.csv')\n",
    "ratings = pd.read_csv('../ratings_test.csv')\n",
    "user_data=pd.read_csv('../user_data.csv')\n",
    "products=pd.read_csv('../test_data.csv')"
   ],
   "outputs": [],
   "execution_count": 12
  },
  {
   "metadata": {
    "ExecuteTime": {
     "end_time": "2024-11-19T09:46:25.419040Z",
     "start_time": "2024-11-19T09:46:25.284726Z"
    }
   },
   "cell_type": "code",
   "source": [
    "def calculate_similarity(user1, user2):\n",
    "    gender_sim = 1 if user1['gender'] == user2['gender'] else 0\n",
    "    age_sim = 1 - abs(user1['age'] - user2['age']) / 100\n",
    "    if user1['city'] == user2['city']:\n",
    "        location_sim = 1  # Same city\n",
    "    elif user1['country'] == user2['country']:\n",
    "        location_sim = 0.5  # Same country, different city\n",
    "    else:\n",
    "        location_sim = 0  # Different country\n",
    "    total_similarity = 0.2 * gender_sim + 0.6 * age_sim + 0.2 * location_sim\n",
    "    return total_similarity\n",
    "def find_top5_similar_users(user_info, user_data):\n",
    "    similarities = []\n",
    "    for i, other_user in user_data.iterrows():\n",
    "        similarity = calculate_similarity(user_info, other_user)\n",
    "        similarities.append((other_user['userID'], similarity))\n",
    "    similarities.sort(key=lambda x: x[1], reverse=True)\n",
    "    top5_similar_users = [user[0] for user in similarities[:5]]\n",
    "    return top5_similar_users\n",
    "user_info = {\n",
    "    'age': 22,\n",
    "    'gender': 'female',\n",
    "    'city': 'thomasville',\n",
    "    'country': 'us',\n",
    "    'interest': '18,19'\n",
    "}\n",
    "def collaborative_filtering_top5_recommendations(user_info, user_data, ratings_data, top_n=10):\n",
    "    # Find the top 5 similar users\n",
    "    top5_similar_users = find_top5_similar_users(user_info, user_data)\n",
    "    filtered_ratings_data = ratings_data[ratings_data['userid'].isin(top5_similar_users)]\n",
    "    user_item_matrix = filtered_ratings_data.pivot_table(\n",
    "        index='userid',\n",
    "        columns='productid',\n",
    "        values='rating',\n",
    "        aggfunc='mean'\n",
    "    ).fillna(0)\n",
    "    user_similarity = cosine_similarity(user_item_matrix)\n",
    "\n",
    "    recommended_items = set()\n",
    "    for target_user_id in top5_similar_users:\n",
    "        try:\n",
    "            target_user_index = user_item_matrix.index.get_loc(target_user_id)\n",
    "        except KeyError:\n",
    "            continue  # Skip users not present in the matrix\n",
    "        user_similarities = user_similarity[target_user_index]\n",
    "        similar_users_indices = user_similarities.argsort()[::-1][1:]\n",
    "\n",
    "        for user_index in similar_users_indices:\n",
    "            rated_by_similar_user = user_item_matrix.iloc[user_index]\n",
    "            not_rated_by_target_user = (rated_by_similar_user > 0) & (user_item_matrix.iloc[target_user_index] == 0)\n",
    "            recommended_items.update(user_item_matrix.columns[not_rated_by_target_user][:top_n])\n",
    "            if len(recommended_items) >= top_n:\n",
    "                break\n",
    "    recommended_items_details = ratings_data[\n",
    "        ratings_data['productid'].isin(recommended_items)\n",
    "    ][['productid', 'rating']].drop_duplicates()\n",
    "    return recommended_items_details.sort_values(by='rating', ascending=False).head(top_n)['productid'].tolist()\n",
    "collaborative_filtering_top5_rec=collaborative_filtering_top5_recommendations(user_info,user_data,ratings,top_n=20)\n",
    "collaborative_filtering_top5_rec"
   ],
   "id": "c9ec89db63f7d78d",
   "outputs": [
    {
     "data": {
      "text/plain": [
       "['app250928',\n",
       " 'acs106891',\n",
       " 'acs245060',\n",
       " 'ggf196312',\n",
       " 'app253530',\n",
       " 'acs157229',\n",
       " 'acs010207',\n",
       " 'hkt067539',\n",
       " 'hkt204108',\n",
       " 'acs185415',\n",
       " 'acs226990',\n",
       " 'ind205074',\n",
       " 'ggf153700',\n",
       " 'acs003283',\n",
       " 'ind120012',\n",
       " 'acs172405',\n",
       " 'cmb091734',\n",
       " 'acs068708',\n",
       " 'acs227005',\n",
       " 'acs050091']"
      ]
     },
     "execution_count": 13,
     "metadata": {},
     "output_type": "execute_result"
    }
   ],
   "execution_count": 13
  },
  {
   "metadata": {
    "ExecuteTime": {
     "end_time": "2024-11-19T09:46:42.437550Z",
     "start_time": "2024-11-19T09:46:42.406303Z"
    }
   },
   "cell_type": "code",
   "source": [
    "def highest_rated_products_by_interest(user_info, product_data, top_n=20):\n",
    "    # Extract user interest as a list of main_category_encoded values\n",
    "    user_interest = list(map(int, user_info['interest'].split(',')))\n",
    "\n",
    "    # Filter the product dataset for items matching the user's interests\n",
    "    filtered_products = product_data[product_data['main_category_encoded'].isin(user_interest)]\n",
    "\n",
    "    # Sort the filtered products by ratings and number of ratings in descending order\n",
    "    top_products = filtered_products.sort_values(\n",
    "        by=['ratings', 'no_of_ratings'], ascending=False\n",
    "    ).head(top_n)\n",
    "\n",
    "    # Return the top product names and IDs as a list\n",
    "    return top_products[['id', 'name', 'ratings', 'no_of_ratings']].values.tolist()\n",
    "highest_rated_products_by_interest_rec=highest_rated_products_by_interest(user_info,products,top_n=20)\n",
    "highest_rated_products_by_interest_rec"
   ],
   "id": "d02b64b284630b83",
   "outputs": [
    {
     "data": {
      "text/plain": [
       "[['wcl147640',\n",
       "  \"Rushwak Women's Soft Silicone Bra Strap Cushions Holder Bra Set Strap Holder Light Weight Non-Slip Safe Shoulder Pads Free...\",\n",
       "  5.0,\n",
       "  40.0],\n",
       " ['wcl040115',\n",
       "  \"Rushwak Women's Soft Silicone Bra Strap Cushions Holder Bra Set Strap Holder Light Weight Non-Slip Safe Shoulder Pads Free...\",\n",
       "  5.0,\n",
       "  40.0],\n",
       " ['wcl006268',\n",
       "  'SATPURUSH Lycra Saree Shapewear Petticoat for Women, Cotton Blended,Petticoat,Skirts for Women,Shape Wear Dress for Saree',\n",
       "  5.0,\n",
       "  36.0],\n",
       " ['wcl177074', \"Yashika women's Art Silk Saree With Blouse Piece\", 5.0, 32.0],\n",
       " ['wcl121491', \"Yashika women's Art Silk Saree With Blouse Piece\", 5.0, 32.0],\n",
       " ['wcl234739',\n",
       "  'KTRIKSHA Crepe Printed A-Line Kurti for Women - Stylish and Comfortable Indian Ethnic Wear',\n",
       "  5.0,\n",
       "  28.0],\n",
       " ['wcl056855',\n",
       "  'ORZIX Fashion Dressing Tape/Invisible Double-Sided Body Tape (Fabric and Skin Friendly) Double Sided Tape for Clothes Dres...',\n",
       "  5.0,\n",
       "  23.0],\n",
       " ['wcl023357',\n",
       "  \"Amayra Women's Rayon Embroidery Kurti with Palazzos and Dupatta Set\",\n",
       "  5.0,\n",
       "  20.0],\n",
       " ['wcl085645',\n",
       "  \"Shasmi Women's & Girls' White Short Puff Sleeve, One Shoulder Neck, Ruched Bust Solid Tops for Women/Tops, T-Shirts for Gi...\",\n",
       "  5.0,\n",
       "  16.0],\n",
       " ['wcl011534',\n",
       "  \"SGF11 Women's Kanjivaram Soft Lichi Silk Saree With Blouse Piece (New Look)\",\n",
       "  5.0,\n",
       "  15.0],\n",
       " ['wcl173189',\n",
       "  \"SAFERSKY® Women's Soft Cotton Bra Panty Set for Women Cotton Stretch Non-Padded Non-Wired Bra Panty Set Best Lingerie Set ...\",\n",
       "  5.0,\n",
       "  14.0],\n",
       " ['wcl215589', 'QAZMI Kashmiri Embroidered Georgette Kurta', 5.0, 14.0],\n",
       " ['wcl223717',\n",
       "  \"VIBRAL Cotton Lingerie Set for Women Full Padded Wire Free Bra Panty Set for Women's\",\n",
       "  5.0,\n",
       "  14.0],\n",
       " ['wcl252727', 'Cream with Red Floral Silk Stole for Women', 5.0, 13.0],\n",
       " ['wcl111897',\n",
       "  'GRECIILOOKS Pajama Set for Woman - Lycra Printed Hooded Long Sleeve Top & Pajama Jogging Track Outfit for Girls Suitable f...',\n",
       "  5.0,\n",
       "  13.0],\n",
       " ['wcl082998',\n",
       "  'Nisixdec No Show Underwear for Women Seamless High Cut Briefs Mid-Waist Soft No Panty Lines,Pack of 5',\n",
       "  5.0,\n",
       "  12.0],\n",
       " ['wcl224565',\n",
       "  'Nisixdec No Show Underwear for Women Seamless High Cut Briefs Mid-Waist Soft No Panty Lines,Pack of 5',\n",
       "  5.0,\n",
       "  12.0],\n",
       " ['wcl093113',\n",
       "  'Lymio Tops for Women || Tops for Women Women Tops || Tops || top for Women || top || Women top (602-607)',\n",
       "  5.0,\n",
       "  12.0],\n",
       " ['wcl256961',\n",
       "  'Bureaucrat Boob Tape + Reusable Silicone Nipple Covers, Cotton Spandex Multipurpose Breast Lift Booby Lifting Push-up Skin...',\n",
       "  5.0,\n",
       "  11.0],\n",
       " ['wcl083587',\n",
       "  'HSR Womens Multi Color Short Sleeve Tops Crew Neck Casual Comfy Slim Fit Top (Free Size)',\n",
       "  5.0,\n",
       "  11.0]]"
      ]
     },
     "execution_count": 15,
     "metadata": {},
     "output_type": "execute_result"
    }
   ],
   "execution_count": 15
  },
  {
   "metadata": {},
   "cell_type": "code",
   "outputs": [],
   "execution_count": null,
   "source": "",
   "id": "e7a1c0513b3d99ca"
  }
 ],
 "metadata": {
  "kernelspec": {
   "display_name": "Python 3",
   "language": "python",
   "name": "python3"
  },
  "language_info": {
   "codemirror_mode": {
    "name": "ipython",
    "version": 2
   },
   "file_extension": ".py",
   "mimetype": "text/x-python",
   "name": "python",
   "nbconvert_exporter": "python",
   "pygments_lexer": "ipython2",
   "version": "2.7.6"
  }
 },
 "nbformat": 4,
 "nbformat_minor": 5
}
