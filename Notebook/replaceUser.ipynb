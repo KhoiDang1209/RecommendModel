{
 "cells": [
  {
   "cell_type": "code",
   "id": "initial_id",
   "metadata": {
    "collapsed": true,
    "ExecuteTime": {
     "end_time": "2024-12-04T01:47:08.917902Z",
     "start_time": "2024-12-04T01:47:05.515848Z"
    }
   },
   "source": [
    "import pandas as pd\n",
    "df = pd.read_csv(\"user_data.csv\")\n",
    "\n",
    "# Create a new column 'user_id' with values from 1 to the number of rows\n",
    "df.insert(0, 'user_id', range(1, len(df) + 1))\n",
    "\n",
    "# Save the updated DataFrame to a new CSV (optional)\n",
    "df.to_csv(\"updated_user_data.csv\", index=False)\n",
    "\n",
    "# Display the updated DataFrame (optional)\n",
    "print(df.head())"
   ],
   "outputs": [
    {
     "name": "stdout",
     "output_type": "stream",
     "text": [
      "   user_id  Unnamed: 0  userID  age  gender           city country\n",
      "0        1           0   60494   29  female  williamshaven      us\n",
      "1        2           1   73691   48    male       hullport      us\n",
      "2        3           2   72468   56    male  brandyborough      us\n",
      "3        4           3   76150   33    male    west donald      us\n",
      "4        5           4   22429   27  female    vanessaside      us\n"
     ]
    }
   ],
   "execution_count": 1
  },
  {
   "metadata": {
    "ExecuteTime": {
     "end_time": "2024-12-04T01:49:06.440341Z",
     "start_time": "2024-12-04T01:49:06.409184Z"
    }
   },
   "cell_type": "code",
   "source": [
    "new_df = df[['user_id', 'userID']]\n",
    "\n",
    "# Save the new DataFrame to a CSV file\n",
    "new_df.to_csv(\"user_id_userID.csv\", index=False)\n",
    "\n",
    "# Display the new DataFrame (optional)\n",
    "print(new_df.head())"
   ],
   "id": "22bd9310d3c4f767",
   "outputs": [
    {
     "name": "stdout",
     "output_type": "stream",
     "text": [
      "   user_id  userID\n",
      "0        1   60494\n",
      "1        2   73691\n",
      "2        3   72468\n",
      "3        4   76150\n",
      "4        5   22429\n"
     ]
    }
   ],
   "execution_count": 2
  },
  {
   "metadata": {
    "ExecuteTime": {
     "end_time": "2024-12-04T01:52:30.144120Z",
     "start_time": "2024-12-04T01:52:30.108227Z"
    }
   },
   "cell_type": "code",
   "source": [
    "df = df.drop(columns=['country'])\n",
    "\n",
    "# Save the updated DataFrame to the same or a new CSV file (optional)\n",
    "df.to_csv(\"updated_user_data.csv\", index=False)\n",
    "\n",
    "# Display the updated DataFrame (optional)\n",
    "print(df.head())"
   ],
   "id": "9b1ed3d2e1f04690",
   "outputs": [
    {
     "name": "stdout",
     "output_type": "stream",
     "text": [
      "   user_id  age  gender           city\n",
      "0        1   29  female  williamshaven\n",
      "1        2   48    male       hullport\n",
      "2        3   56    male  brandyborough\n",
      "3        4   33    male    west donald\n",
      "4        5   27  female    vanessaside\n"
     ]
    }
   ],
   "execution_count": 5
  },
  {
   "metadata": {
    "ExecuteTime": {
     "end_time": "2024-12-04T01:58:47.125802Z",
     "start_time": "2024-12-04T01:58:46.904066Z"
    }
   },
   "cell_type": "code",
   "source": [
    "user_mapping = pd.read_csv(\"user_id_userID.csv\")  # Contains user_id and userID\n",
    "ratings_test = pd.read_csv(\"ratings_test.csv\")  # Contains userid\n",
    "\n",
    "# Rename 'userid' in ratings_test to 'userID' for clarity (optional)\n",
    "ratings_test = ratings_test.rename(columns={'userid': 'userID'})\n",
    "\n",
    "# Merge ratings_test with user_mapping based on 'userID'\n",
    "ratings_test = ratings_test.merge(user_mapping, on='userID', how='left')\n",
    "\n",
    "# Save the updated DataFrame to a new CSV file\n",
    "ratings_test.to_csv(\"ratings_test_with_new_userid.csv\", index=False)\n",
    "\n",
    "# Display the updated DataFrame (optional)\n",
    "print(ratings_test.head())"
   ],
   "id": "3ebcfb0cb7776f85",
   "outputs": [
    {
     "name": "stdout",
     "output_type": "stream",
     "text": [
      "   userID  productid  rating  user_id\n",
      "0   64281  tvc231494       5     1663\n",
      "1   95879  tvc155695       4      318\n",
      "2   52252  app140246       3     1996\n",
      "3   77309  msh018260       3      418\n",
      "4   57782  app202985       3     1186\n"
     ]
    }
   ],
   "execution_count": 6
  },
  {
   "metadata": {
    "ExecuteTime": {
     "end_time": "2024-12-04T01:59:47.898491Z",
     "start_time": "2024-12-04T01:59:47.729187Z"
    }
   },
   "cell_type": "code",
   "source": [
    "cols = ['user_id'] + [col for col in ratings_test.columns if col != 'user_id']\n",
    "ratings_test = ratings_test[cols]\n",
    "\n",
    "# Save the updated DataFrame to a new CSV file (optional)\n",
    "ratings_test.to_csv(\"ratings_test_updated.csv\", index=False)\n",
    "\n",
    "# Display the updated DataFrame (optional)\n",
    "print(ratings_test.head())"
   ],
   "id": "894f943af00ed267",
   "outputs": [
    {
     "name": "stdout",
     "output_type": "stream",
     "text": [
      "   user_id  userID  productid  rating\n",
      "0     1663   64281  tvc231494       5\n",
      "1      318   95879  tvc155695       4\n",
      "2     1996   52252  app140246       3\n",
      "3      418   77309  msh018260       3\n",
      "4     1186   57782  app202985       3\n"
     ]
    }
   ],
   "execution_count": 7
  },
  {
   "metadata": {
    "ExecuteTime": {
     "end_time": "2024-12-04T02:02:16.036464Z",
     "start_time": "2024-12-04T02:02:15.853563Z"
    }
   },
   "cell_type": "code",
   "source": [
    "new_rating=pd.read_csv(\"ratings_test_updated.csv\")\n",
    "new_rating = new_rating.drop(columns=['userID'])\n",
    "new_rating.to_csv(\"new_rating.csv\", index=False)\n",
    "print(new_rating.head())"
   ],
   "id": "a4bce5874ece8ae6",
   "outputs": [
    {
     "name": "stdout",
     "output_type": "stream",
     "text": [
      "   user_id  productid  rating\n",
      "0     1663  tvc231494       5\n",
      "1      318  tvc155695       4\n",
      "2     1996  app140246       3\n",
      "3      418  msh018260       3\n",
      "4     1186  app202985       3\n"
     ]
    }
   ],
   "execution_count": 8
  },
  {
   "metadata": {
    "ExecuteTime": {
     "end_time": "2024-12-04T02:11:22.013818Z",
     "start_time": "2024-12-04T02:11:21.951413Z"
    }
   },
   "cell_type": "code",
   "source": [
    "user_interests = pd.read_csv(\"user_interests.csv\")  # Contains userID\n",
    "\n",
    "# Merge user_interests with user_mapping based on 'userID'\n",
    "user_interests = user_interests.merge(user_mapping, on='userID', how='left')\n",
    "\n",
    "# Move 'user_id' column to the first position\n",
    "cols = ['user_id'] + [col for col in user_interests.columns if col != 'user_id']\n",
    "user_interests = user_interests[cols]\n",
    "# Save the updated DataFrame to a new CSV file\n",
    "user_interests.to_csv(\"user_interests_updated.csv\", index=False)\n",
    "\n",
    "# Display the updated DataFrame (optional)\n",
    "print(user_interests.head())"
   ],
   "id": "269721956e701ea0",
   "outputs": [
    {
     "name": "stdout",
     "output_type": "stream",
     "text": [
      "   user_id  userID      interests\n",
      "0        1   60494  [14, 4, 9, 0]\n",
      "1        2   73691            [5]\n",
      "2        3   72468    [12, 11, 6]\n",
      "3        4   76150    [5, 15, 17]\n",
      "4        5   22429           [15]\n"
     ]
    }
   ],
   "execution_count": 9
  },
  {
   "metadata": {
    "ExecuteTime": {
     "end_time": "2024-12-04T02:15:17.183706Z",
     "start_time": "2024-12-04T02:15:17.151746Z"
    }
   },
   "cell_type": "code",
   "source": [
    "new_user_interests = pd.read_csv(\"user_interests_updated.csv\")\n",
    "new_user_interests = new_user_interests.drop(columns=['userID'])\n",
    "new_user_interests.to_csv(\"new_user_interests_updated.csv\", index=False)\n",
    "print(new_user_interests.head())"
   ],
   "id": "80a08b9f1a91bcfe",
   "outputs": [
    {
     "name": "stdout",
     "output_type": "stream",
     "text": [
      "   user_id      interests\n",
      "0        1  [14, 4, 9, 0]\n",
      "1        2            [5]\n",
      "2        3    [12, 11, 6]\n",
      "3        4    [5, 15, 17]\n",
      "4        5           [15]\n"
     ]
    }
   ],
   "execution_count": 10
  },
  {
   "metadata": {},
   "cell_type": "code",
   "outputs": [],
   "execution_count": null,
   "source": "",
   "id": "a47a6ea43842112a"
  }
 ],
 "metadata": {
  "kernelspec": {
   "display_name": "Python 3",
   "language": "python",
   "name": "python3"
  },
  "language_info": {
   "codemirror_mode": {
    "name": "ipython",
    "version": 2
   },
   "file_extension": ".py",
   "mimetype": "text/x-python",
   "name": "python",
   "nbconvert_exporter": "python",
   "pygments_lexer": "ipython2",
   "version": "2.7.6"
  }
 },
 "nbformat": 4,
 "nbformat_minor": 5
}
