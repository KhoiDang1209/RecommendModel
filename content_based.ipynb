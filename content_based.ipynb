{
 "cells": [
  {
   "cell_type": "code",
   "id": "initial_id",
   "metadata": {
    "collapsed": true,
    "ExecuteTime": {
     "end_time": "2024-10-18T06:17:33.792743Z",
     "start_time": "2024-10-18T06:17:29.828495Z"
    }
   },
   "source": [
    "import pandas as pd\n",
    "import numpy as np\n",
    "from sklearn.feature_extraction.text import TfidfVectorizer\n",
    "from sklearn.metrics.pairwise import cosine_similarity\n",
    "\n",
    "# Load the dataset\n",
    "train_data = pd.read_csv('train_data.csv')\n",
    "\n",
    "# Preprocess item names\n",
    "train_data['processed_name'] = train_data['name'].str.lower()\n",
    "\n",
    "# Create TF-IDF vectorizer\n",
    "tfidf_vectorizer = TfidfVectorizer(stop_words='english')\n",
    "tfidf_matrix = tfidf_vectorizer.fit_transform(train_data['processed_name'])\n",
    "\n",
    "# Example query\n",
    "query = \"socks\"  # Replace with the user's query\n",
    "query_vector = tfidf_vectorizer.transform([query])\n",
    "\n",
    "# Compute cosine similarity\n",
    "cosine_similarities = cosine_similarity(query_vector, tfidf_matrix).flatten()\n",
    "\n",
    "# Create a DataFrame with names, IDs, and cosine similarity\n",
    "results_df = pd.DataFrame({\n",
    "    'id': train_data['id'].astype(str),  # Convert ID to string\n",
    "    'name': train_data['name'],\n",
    "    'cosine_similarity': cosine_similarities\n",
    "})\n",
    "\n",
    "# Sort the results by cosine similarity in descending order\n",
    "results_df = results_df.sort_values(by='cosine_similarity', ascending=False)\n",
    "\n",
    "# Display the top results (e.g., top 10)\n",
    "print(results_df.head(10))"
   ],
   "outputs": [
    {
     "name": "stdout",
     "output_type": "stream",
     "text": [
      "               id                                               name  \\\n",
      "71854   kfa066741  Cuteably™ Baby Girl Cotton Socks Fancy Socks G...   \n",
      "105464  str084074  Men's loafer socks pack of 2 loafer socks Men'...   \n",
      "110748  wcl003411  Boldfit Bamboo Socks For Men Women Ankle Socks...   \n",
      "61880   str177397  Boldfit Bamboo Socks For Men Women Ankle Socks...   \n",
      "18077   spf123418  SADMAX Flip Flops Socks || 3D Pattern Socks ||...   \n",
      "101184  str005332  Boldfit Socks for Men & Women Unisex Stylish D...   \n",
      "80379   wcl112428  Boldfit Socks for Men & Women Unisex Stylish D...   \n",
      "25930   str265521  Supersox Socks For Men Premium Ankle Length Sp...   \n",
      "124284  str029826  Supersox Men's Cotton Socks, Men's Running Soc...   \n",
      "78219   spf135711  Azad Leather Winter Socks Zipper Soft Halaal L...   \n",
      "\n",
      "        cosine_similarity  \n",
      "71854            0.811135  \n",
      "105464           0.775481  \n",
      "110748           0.743270  \n",
      "61880            0.743270  \n",
      "18077            0.728273  \n",
      "101184           0.710183  \n",
      "80379            0.710183  \n",
      "25930            0.672658  \n",
      "124284           0.670001  \n",
      "78219            0.663395  \n"
     ]
    }
   ],
   "execution_count": 1
  },
  {
   "metadata": {
    "ExecuteTime": {
     "end_time": "2024-10-18T05:43:32.235143Z",
     "start_time": "2024-10-18T05:43:32.131646Z"
    }
   },
   "cell_type": "code",
   "source": [
    "def find_similar_items(item_id, tfidf_matrix, train_data, top_n=5):\n",
    "    # Get the index of the item with the given ID\n",
    "    item_index = train_data[train_data['id'] == item_id].index[0]\n",
    "    \n",
    "    # Get the TF-IDF vector for the input item\n",
    "    item_vector = tfidf_matrix[item_index]\n",
    "\n",
    "    # Calculate cosine similarity between the input item and all other items\n",
    "    cosine_similarities = cosine_similarity(item_vector, tfidf_matrix).flatten()\n",
    "\n",
    "    # Get the indices of the most similar items (excluding the input item itself)\n",
    "    similar_indices = cosine_similarities.argsort()[-top_n-1:-1][::-1]\n",
    "\n",
    "    # Get the similar items' names and categories\n",
    "    similar_items = train_data.iloc[similar_indices][['name', 'main_category', 'sub_category']]\n",
    "    \n",
    "    # Add similarity scores to the DataFrame\n",
    "    similar_items['similarity_score'] = cosine_similarities[similar_indices]\n",
    "\n",
    "    return similar_items\n",
    "\n",
    "# Example usage:\n",
    "item_id = 'kfa066741'  # Replace with the ID of the item you want to find similar items for\n",
    "similar_items = find_similar_items(item_id, tfidf_matrix, train_data)\n",
    "print(similar_items)"
   ],
   "id": "d34bb324e8cf0464",
   "outputs": [
    {
     "name": "stdout",
     "output_type": "stream",
     "text": [
      "                                                     name     main_category  \\\n",
      "105464  Men's loafer socks pack of 2 loafer socks Men'...            stores   \n",
      "110748  Boldfit Bamboo Socks For Men Women Ankle Socks...  women's clothing   \n",
      "61880   Boldfit Bamboo Socks For Men Women Ankle Socks...            stores   \n",
      "93262   Dazzlia cotton socks/Anti slip grip socks for ...     kids' fashion   \n",
      "18077   SADMAX Flip Flops Socks || 3D Pattern Socks ||...  sports & fitness   \n",
      "\n",
      "         sub_category  similarity_score  \n",
      "105464  Men's Fashion          0.635105  \n",
      "110748       Clothing          0.602892  \n",
      "61880   Men's Fashion          0.602892  \n",
      "93262    Baby Fashion          0.600579  \n",
      "18077         Cycling          0.590728  \n"
     ]
    }
   ],
   "execution_count": 24
  },
  {
   "metadata": {},
   "cell_type": "code",
   "outputs": [],
   "execution_count": null,
   "source": "",
   "id": "c9554751b3be62f4"
  }
 ],
 "metadata": {
  "kernelspec": {
   "display_name": "Python 3",
   "language": "python",
   "name": "python3"
  },
  "language_info": {
   "codemirror_mode": {
    "name": "ipython",
    "version": 2
   },
   "file_extension": ".py",
   "mimetype": "text/x-python",
   "name": "python",
   "nbconvert_exporter": "python",
   "pygments_lexer": "ipython2",
   "version": "2.7.6"
  }
 },
 "nbformat": 4,
 "nbformat_minor": 5
}
