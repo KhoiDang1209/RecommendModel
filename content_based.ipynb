{
 "cells": [
  {
   "cell_type": "code",
   "id": "initial_id",
   "metadata": {
    "collapsed": true,
    "ExecuteTime": {
     "end_time": "2024-10-24T15:06:20.697125Z",
     "start_time": "2024-10-24T15:06:17.148020Z"
    }
   },
   "source": [
    "import pandas as pd\n",
    "from sklearn.feature_extraction.text import TfidfVectorizer\n",
    "from sklearn.metrics.pairwise import cosine_similarity\n",
    "\n",
    "# Load the dataset\n",
    "train_data = pd.read_csv('train_data.csv')\n",
    "\n",
    "# Preprocess item names by converting to lowercase\n",
    "train_data['processed_name'] = train_data['name'].str.lower()\n",
    "\n",
    "# Create TF-IDF vectorizer and fit on the processed names\n",
    "tfidf_vectorizer = TfidfVectorizer(stop_words='english')\n",
    "tfidf_matrix = tfidf_vectorizer.fit_transform(train_data['processed_name'])\n",
    "\n",
    "# Function to search for similar items based on query\n",
    "def search_similar_items(query, top_n=10):\n",
    "    \n",
    "    # Transform the query into a vector\n",
    "    query_vector = tfidf_vectorizer.transform([query.lower()])\n",
    "    \n",
    "    # Compute cosine similarity between the query and all items\n",
    "    cosine_similarities = cosine_similarity(query_vector, tfidf_matrix).flatten()\n",
    "    \n",
    "    # Create a DataFrame with IDs, names, and cosine similarity scores\n",
    "    results_df = pd.DataFrame({\n",
    "        'id': train_data['id'].astype(str),  # Convert ID to string\n",
    "        'name': train_data['name'],\n",
    "        'cosine_similarity': cosine_similarities\n",
    "    })\n",
    "    \n",
    "    # Sort the results by cosine similarity in descending order\n",
    "    results_df = results_df.sort_values(by='cosine_similarity', ascending=False)\n",
    "    \n",
    "    # Return the top N results\n",
    "    return results_df.head(top_n)\n",
    "\n",
    "# Example usage:\n",
    "query = \"samsung\"  # Replace with the user's query\n",
    "top_results = search_similar_items(query, top_n=10)\n",
    "print(top_results)\n"
   ],
   "outputs": [
    {
     "name": "stdout",
     "output_type": "stream",
     "text": [
      "               id                                               name  \\\n",
      "137828  tvc218154  D Earphones Headphones for Samsung Galaxy A02s...   \n",
      "62004   tvc200588  Samsung tv Remote Compatible for Samsung LED/L...   \n",
      "91163   tvc258170  Hybite® Samsung AC Remote Compatible with Sams...   \n",
      "11439   tvc032115  D Type C to C Usb Cable for Samsung Galaxy A71...   \n",
      "153611  tvc055088  ShopMagics In-Ear Headphones Earphones for Sam...   \n",
      "40700   tvc263702  ShopMagics In-Ear Headphones Earphones for Sam...   \n",
      "76014   tvc048011  LRIPL Samsung Universal Remote Control Compati...   \n",
      "10      tvc065211  Samsung AC Remote Control Universal Compatible...   \n",
      "100455  tvc052477  KITGOHUT 8 Pcs (4 Pair) for S6,S7 Mix Samsung ...   \n",
      "99266   tvc174372  C&D Samsung Led Remote Compatible for Samsung ...   \n",
      "\n",
      "        cosine_similarity  \n",
      "137828           0.652116  \n",
      "62004            0.616486  \n",
      "91163            0.604065  \n",
      "11439            0.580282  \n",
      "153611           0.505895  \n",
      "40700            0.505895  \n",
      "76014            0.484348  \n",
      "10               0.483126  \n",
      "100455           0.467763  \n",
      "99266            0.461107  \n"
     ]
    }
   ],
   "execution_count": 2
  },
  {
   "metadata": {
    "ExecuteTime": {
     "end_time": "2024-10-18T05:43:32.235143Z",
     "start_time": "2024-10-18T05:43:32.131646Z"
    }
   },
   "cell_type": "code",
   "source": [
    "def find_similar_items(item_id, tfidf_matrix, train_data, top_n=5):\n",
    "    # Get the index of the item with the given ID\n",
    "    item_index = train_data[train_data['id'] == item_id].index[0]\n",
    "    \n",
    "    # Get the TF-IDF vector for the input item\n",
    "    item_vector = tfidf_matrix[item_index]\n",
    "\n",
    "    # Calculate cosine similarity between the input item and all other items\n",
    "    cosine_similarities = cosine_similarity(item_vector, tfidf_matrix).flatten()\n",
    "\n",
    "    # Get the indices of the most similar items (excluding the input item itself)\n",
    "    similar_indices = cosine_similarities.argsort()[-top_n-1:-1][::-1]\n",
    "\n",
    "    # Get the similar items' names and categories\n",
    "    similar_items = train_data.iloc[similar_indices][['name', 'main_category', 'sub_category']]\n",
    "    \n",
    "    # Add similarity scores to the DataFrame\n",
    "    similar_items['similarity_score'] = cosine_similarities[similar_indices]\n",
    "\n",
    "    return similar_items\n",
    "\n",
    "# Example usage:\n",
    "item_id = 'kfa066741'  # Replace with the ID of the item you want to find similar items for\n",
    "similar_items = find_similar_items(item_id, tfidf_matrix, train_data)\n",
    "print(similar_items)"
   ],
   "id": "d34bb324e8cf0464",
   "outputs": [
    {
     "name": "stdout",
     "output_type": "stream",
     "text": [
      "                                                     name     main_category  \\\n",
      "105464  Men's loafer socks pack of 2 loafer socks Men'...            stores   \n",
      "110748  Boldfit Bamboo Socks For Men Women Ankle Socks...  women's clothing   \n",
      "61880   Boldfit Bamboo Socks For Men Women Ankle Socks...            stores   \n",
      "93262   Dazzlia cotton socks/Anti slip grip socks for ...     kids' fashion   \n",
      "18077   SADMAX Flip Flops Socks || 3D Pattern Socks ||...  sports & fitness   \n",
      "\n",
      "         sub_category  similarity_score  \n",
      "105464  Men's Fashion          0.635105  \n",
      "110748       Clothing          0.602892  \n",
      "61880   Men's Fashion          0.602892  \n",
      "93262    Baby Fashion          0.600579  \n",
      "18077         Cycling          0.590728  \n"
     ]
    }
   ],
   "execution_count": 24
  },
  {
   "metadata": {},
   "cell_type": "code",
   "outputs": [],
   "execution_count": null,
   "source": "",
   "id": "c9554751b3be62f4"
  }
 ],
 "metadata": {
  "kernelspec": {
   "display_name": "Python 3",
   "language": "python",
   "name": "python3"
  },
  "language_info": {
   "codemirror_mode": {
    "name": "ipython",
    "version": 2
   },
   "file_extension": ".py",
   "mimetype": "text/x-python",
   "name": "python",
   "nbconvert_exporter": "python",
   "pygments_lexer": "ipython2",
   "version": "2.7.6"
  }
 },
 "nbformat": 4,
 "nbformat_minor": 5
}
