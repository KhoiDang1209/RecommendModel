{
 "cells": [
  {
   "cell_type": "code",
   "id": "initial_id",
   "metadata": {
    "collapsed": true,
    "ExecuteTime": {
     "end_time": "2024-11-12T05:10:51.496720Z",
     "start_time": "2024-11-12T05:10:45.275405Z"
    }
   },
   "source": [
    "import pandas as pd\n",
    "from sklearn.feature_extraction.text import TfidfVectorizer\n",
    "from sklearn.metrics.pairwise import cosine_similarity\n",
    "train_data = pd.read_csv('train_data.csv')\n",
    "train_data['processed_name'] = train_data['name'].str.lower()\n",
    "tfidf_vectorizer = TfidfVectorizer(stop_words='english')\n",
    "tfidf_matrix = tfidf_vectorizer.fit_transform(train_data['processed_name'])\n",
    "def search_similar_items(query, top_n=10):\n",
    "    query_vector = tfidf_vectorizer.transform([query.lower()])\n",
    "    cosine_similarities = cosine_similarity(query_vector, tfidf_matrix).flatten()\n",
    "    results_df = pd.DataFrame({\n",
    "        'id': train_data['id'].astype(str),  \n",
    "        'name': train_data['name'],\n",
    "        'cosine_similarity': cosine_similarities\n",
    "    })\n",
    "    results_df = results_df.sort_values(by='cosine_similarity', ascending=False)\n",
    "    return results_df.head(top_n)\n",
    "query = \"men\"\n",
    "top_results = search_similar_items(query, top_n=10)\n",
    "print('Search query: ', query)\n",
    "print(top_results)"
   ],
   "outputs": [
    {
     "name": "stdout",
     "output_type": "stream",
     "text": [
      "Search query:  men\n",
      "               id                                               name  \\\n",
      "98339   msh101739                     Men's Black Mesh Shoes for Men   \n",
      "117280  mcl233363  WE PERFECT Men's Stylish Cotton Blend Printed ...   \n",
      "131747  msh123676                 Men's Stylish Casual BOOTS for Men   \n",
      "126283  mcl041207                       Reebok Men's' Men's T Shirts   \n",
      "54470   mcl239574                          Reebok Men Men's T Shirts   \n",
      "104072  spf224189                       Reebok Men's' Men's T Shirts   \n",
      "84047   msh231599             Men's Black Synthetic Loafer for Men's   \n",
      "11025   msh031497                 Men's Black Synthetic Men's Loafer   \n",
      "103647  msh096402         Men's Formal Leather Lace Up Shoes for Men   \n",
      "112061  msh113334               Men's Casual Slip On Loafers for Men   \n",
      "\n",
      "        cosine_similarity  \n",
      "98339            0.540748  \n",
      "117280           0.529954  \n",
      "131747           0.506225  \n",
      "126283           0.498951  \n",
      "54470            0.498951  \n",
      "104072           0.498951  \n",
      "84047            0.494999  \n",
      "11025            0.494999  \n",
      "103647           0.491175  \n",
      "112061           0.490153  \n"
     ]
    }
   ],
   "execution_count": 1
  },
  {
   "metadata": {
    "ExecuteTime": {
     "end_time": "2024-10-18T05:43:32.235143Z",
     "start_time": "2024-10-18T05:43:32.131646Z"
    }
   },
   "cell_type": "code",
   "source": [
    "def find_similar_items(item_id, tfidf_matrix, train_data, top_n=5):\n",
    "    # Get the index of the item with the given ID\n",
    "    item_index = train_data[train_data['id'] == item_id].index[0]\n",
    "    \n",
    "    # Get the TF-IDF vector for the input item\n",
    "    item_vector = tfidf_matrix[item_index]\n",
    "\n",
    "    # Calculate cosine similarity between the input item and all other items\n",
    "    cosine_similarities = cosine_similarity(item_vector, tfidf_matrix).flatten()\n",
    "\n",
    "    # Get the indices of the most similar items (excluding the input item itself)\n",
    "    similar_indices = cosine_similarities.argsort()[-top_n-1:-1][::-1]\n",
    "\n",
    "    # Get the similar items' names and categories\n",
    "    similar_items = train_data.iloc[similar_indices][['name', 'main_category', 'sub_category']]\n",
    "    \n",
    "    # Add similarity scores to the DataFrame\n",
    "    similar_items['similarity_score'] = cosine_similarities[similar_indices]\n",
    "\n",
    "    return similar_items\n",
    "item_id = 'kfa066741' \n",
    "similar_items = find_similar_items(item_id, tfidf_matrix, train_data)\n",
    "print(similar_items)"
   ],
   "id": "d34bb324e8cf0464",
   "outputs": [
    {
     "name": "stdout",
     "output_type": "stream",
     "text": [
      "                                                     name     main_category  \\\n",
      "105464  Men's loafer socks pack of 2 loafer socks Men'...            stores   \n",
      "110748  Boldfit Bamboo Socks For Men Women Ankle Socks...  women's clothing   \n",
      "61880   Boldfit Bamboo Socks For Men Women Ankle Socks...            stores   \n",
      "93262   Dazzlia cotton socks/Anti slip grip socks for ...     kids' fashion   \n",
      "18077   SADMAX Flip Flops Socks || 3D Pattern Socks ||...  sports & fitness   \n",
      "\n",
      "         sub_category  similarity_score  \n",
      "105464  Men's Fashion          0.635105  \n",
      "110748       Clothing          0.602892  \n",
      "61880   Men's Fashion          0.602892  \n",
      "93262    Baby Fashion          0.600579  \n",
      "18077         Cycling          0.590728  \n"
     ]
    }
   ],
   "execution_count": 24
  },
  {
   "metadata": {
    "ExecuteTime": {
     "end_time": "2024-11-10T05:19:34.172503Z",
     "start_time": "2024-11-10T05:19:34.140861Z"
    }
   },
   "cell_type": "code",
   "source": [
    "random_id = train_data['id'].sample(n=1).values[0]\n",
    "\n",
    "print(\"Random item ID:\", random_id)"
   ],
   "id": "8f170a59e795db30",
   "outputs": [
    {
     "name": "stdout",
     "output_type": "stream",
     "text": [
      "Random item ID: app200847\n"
     ]
    }
   ],
   "execution_count": 4
  },
  {
   "metadata": {},
   "cell_type": "code",
   "outputs": [],
   "execution_count": null,
   "source": "",
   "id": "2d74300326627811"
  }
 ],
 "metadata": {
  "kernelspec": {
   "display_name": "Python 3",
   "language": "python",
   "name": "python3"
  },
  "language_info": {
   "codemirror_mode": {
    "name": "ipython",
    "version": 2
   },
   "file_extension": ".py",
   "mimetype": "text/x-python",
   "name": "python",
   "nbconvert_exporter": "python",
   "pygments_lexer": "ipython2",
   "version": "2.7.6"
  }
 },
 "nbformat": 4,
 "nbformat_minor": 5
}
