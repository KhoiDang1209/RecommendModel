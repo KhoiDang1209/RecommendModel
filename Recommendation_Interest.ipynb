{
 "cells": [
  {
   "cell_type": "code",
   "id": "initial_id",
   "metadata": {
    "collapsed": true,
    "ExecuteTime": {
     "end_time": "2024-11-20T05:35:39.591782Z",
     "start_time": "2024-11-20T05:35:39.546912Z"
    }
   },
   "source": [
    "import pandas as pd\n",
    "import pickle\n",
    "from sklearn.metrics.pairwise import cosine_similarity\n",
    "\n",
    "class RecommendationModel:\n",
    "    def __init__(self, user_data, ratings_data, product_data):\n",
    "        # Store the datasets in attributes\n",
    "        self.user_data = user_data\n",
    "        self.ratings_data = ratings_data\n",
    "        self.product_data = product_data\n",
    "\n",
    "    @staticmethod\n",
    "    def calculate_similarity(user1, user2):\n",
    "        \"\"\"Calculate similarity between two users.\"\"\"\n",
    "        gender_sim = 1 if user1['gender'] == user2['gender'] else 0\n",
    "        age_sim = 1 - abs(user1['age'] - user2['age']) / 100\n",
    "        if user1['city'] == user2['city']:\n",
    "            location_sim = 1\n",
    "        elif user1['country'] == user2['country']:\n",
    "            location_sim = 0.5\n",
    "        else:\n",
    "            location_sim = 0\n",
    "        total_similarity = 0.2 * gender_sim + 0.6 * age_sim + 0.2 * location_sim\n",
    "        return total_similarity\n",
    "\n",
    "    def find_top5_similar_users(self, user_info):\n",
    "        \"\"\"Find the top 5 similar users based on user attributes.\"\"\"\n",
    "        similarities = []\n",
    "        for i, other_user in self.user_data.iterrows():\n",
    "            similarity = self.calculate_similarity(user_info, other_user)\n",
    "            similarities.append((other_user['userID'], similarity))\n",
    "        similarities.sort(key=lambda x: x[1], reverse=True)\n",
    "        return [user[0] for user in similarities[:5]]\n",
    "\n",
    "    def collaborative_filtering_recommendations(self, user_info, top_n=10):\n",
    "        \"\"\"Generate recommendations using collaborative filtering.\"\"\"\n",
    "        top5_similar_users = self.find_top5_similar_users(user_info)\n",
    "        filtered_ratings_data = self.ratings_data[self.ratings_data['userid'].isin(top5_similar_users)]\n",
    "        user_item_matrix = filtered_ratings_data.pivot_table(\n",
    "            index='userid',\n",
    "            columns='productid',\n",
    "            values='rating',\n",
    "            aggfunc='mean'\n",
    "        ).fillna(0)\n",
    "        user_similarity = cosine_similarity(user_item_matrix)\n",
    "        recommended_items = set()\n",
    "        for target_user_id in top5_similar_users:\n",
    "            try:\n",
    "                target_user_index = user_item_matrix.index.get_loc(target_user_id)\n",
    "            except KeyError:\n",
    "                continue\n",
    "            user_similarities = user_similarity[target_user_index]\n",
    "            similar_users_indices = user_similarities.argsort()[::-1][1:]\n",
    "            for user_index in similar_users_indices:\n",
    "                rated_by_similar_user = user_item_matrix.iloc[user_index]\n",
    "                not_rated_by_target_user = (rated_by_similar_user > 0) & (user_item_matrix.iloc[target_user_index] == 0)\n",
    "                recommended_items.update(user_item_matrix.columns[not_rated_by_target_user][:top_n])\n",
    "                if len(recommended_items) >= top_n:\n",
    "                    break\n",
    "        recommended_items_details = self.ratings_data[\n",
    "            self.ratings_data['productid'].isin(recommended_items)\n",
    "        ][['productid', 'rating']].drop_duplicates()\n",
    "        recommended_items_with_names = recommended_items_details.merge(\n",
    "        self.product_data[['id', 'name']],\n",
    "        left_on='productid',\n",
    "        right_on='id',\n",
    "        how='inner')\n",
    "        top_recommendations = recommended_items_with_names.sort_values(by='rating', ascending=False ).head(top_n)\n",
    "        return top_recommendations[['productid', 'name', 'rating']].values.tolist()\n",
    "\n",
    "    def highest_rated_products_by_interest(self, user_info, top_n=20):\n",
    "        \"\"\"Get top-rated products based on user interests.\"\"\"\n",
    "        user_interest = list(map(int, user_info['interest'].split(',')))\n",
    "        filtered_products = self.product_data[self.product_data['main_category_encoded'].isin(user_interest)]\n",
    "        top_products = filtered_products.sort_values(\n",
    "            by=['ratings', 'no_of_ratings'], ascending=False\n",
    "        ).head(top_n)\n",
    "        return top_products[['id', 'name', 'ratings', 'no_of_ratings']].values.tolist()\n",
    "\n",
    "    def recommend(self, user_info, top_n=20):\n",
    "        \"\"\"Generate final recommendations combining collaborative filtering and interest-based filtering.\"\"\"\n",
    "        collaborative_recommendations = self.collaborative_filtering_recommendations(user_info, top_n=top_n)\n",
    "        interest_based_recommendations = self.highest_rated_products_by_interest(user_info, top_n=top_n)\n",
    "\n",
    "        recommendations = {\n",
    "            \"collaborative\": collaborative_recommendations,\n",
    "            \"interest_based\": interest_based_recommendations\n",
    "        }\n",
    "        return recommendations\n",
    "\n",
    "    def save(self, filepath):\n",
    "        \"\"\"Save the model to a file.\"\"\"\n",
    "        with open(filepath, 'wb') as f:\n",
    "            pickle.dump(self, f)\n",
    "\n",
    "    @staticmethod\n",
    "    def load(filepath):\n",
    "        \"\"\"Load the model from a file.\"\"\"\n",
    "        with open(filepath, 'rb') as f:\n",
    "            return pickle.load(f)\n"
   ],
   "outputs": [],
   "execution_count": 6
  },
  {
   "metadata": {
    "ExecuteTime": {
     "end_time": "2024-11-20T05:35:43.434103Z",
     "start_time": "2024-11-20T05:35:42.528433Z"
    }
   },
   "cell_type": "code",
   "source": [
    "# Usage Example\n",
    "if __name__ == \"__main__\":\n",
    "    user_data = pd.read_csv('user_data.csv')\n",
    "    ratings_data = pd.read_csv('ratings_test.csv')\n",
    "    product_data = pd.read_csv('test_data.csv')\n",
    "    # Initialize the model\n",
    "    model = RecommendationModel(user_data, ratings_data, product_data)\n",
    "    # Save the model to a file\n",
    "    model.save('D:/RecommendModel/recommendation_model.pkl')\n",
    "    # Load the model from the file\n",
    "    loaded_model = RecommendationModel.load('recommendation_model.pkl')\n",
    "    # Example user info\n",
    "    user_info = {\n",
    "        'age': 22,\n",
    "        'gender': 'female',\n",
    "        'city': 'thomasville',\n",
    "        'country': 'us',\n",
    "        'interest': '18,19'\n",
    "    }\n",
    "\n",
    "    # Generate recommendations\n",
    "    recommendation_interest = loaded_model.recommend(user_info, top_n=20)\n",
    "    print(\"Collaborative Recommendations:\", recommendation_interest['collaborative'])\n",
    "    print(\"Interest-Based Recommendations:\", recommendation_interest['interest_based'])"
   ],
   "id": "2e735651f1b2a9f6",
   "outputs": [
    {
     "name": "stdout",
     "output_type": "stream",
     "text": [
      "Collaborative Recommendations: [['app250928', 'Black + Decker 2000 Watts Ceramic Room Heater with Digital Control- Black', 5], ['acs106891', \"HUSIRE'S Scrunchies Watch Classic & Unique Scrunchies Watches Strap Cloth Soft Pattern Solid Fabric Wristband I Watch Cute...\", 5], ['acs245060', 'The A P Exim Commercials Reusable Jacquard Cotton Boxy Tote Bag for Women | Printed Multipurpose Handbag | Box Bag |Tote B...', 5], ['ggf196312', \"Shara's Dry Fruits Broken Cashews Nuts Kaju Tukda, 250g - 4 Pieces\", 5], ['app253530', 'Wonderchef Electric Kettle Crimson Edge, Stainless Steel, With Auto-Shut Off, 2-Level Safety, Cool-Touch, 1.7 Litres, 1 Ye...', 5], ['acs157229', 'Delsey Banjul Denier Polyester 78 CM 4 Wheels Red Soft Suitcase', 5], ['acs010207', 'Zivom® Leather Silver Plated Bracelet for Unisex Adult', 5], ['hkt067539', 'Oc9 Set of 4 Measuring Cup and 4 Measuring Spoon Silver (Stainless Steel)', 5], ['hkt204108', 'AMFIN® (Pack of 8) Happy Birthday Printed Pastel Color Candle with Holder for Birthday Cake Topper Accessories / Candles f...', 5], ['acs185415', 'Sidharth Gems 8.25 Ratti 7.00 Carat Cultured Yellow Sapphire Gemstone Certified Cultured Pukhraj Stone Lab Tested Astrolog...', 5], ['acs226990', 'Puma Unisex-Adult Bi-Fold Wallet IND I, Dark Denim-Heather, X (5404902)', 5], ['ind205074', 'UTC Digital Rotometer, Flow Meter, 4 Inches Reading Map, Measuring Range Indicator Instrument', 5], ['ggf153700', 'Bliss Of Earth Mexican Pecan Nuts 500 gm, Raw & Dehulled Pecan Halves, Flavonoids Rich Super Food', 5], ['acs003283', 'Women’s Girls Fashion PU Leather Mini Casual Meow Backpack Bags For School, College,office', 5], ['ind120012', 'Sky-Clean Room Wiper Wiping Cloth 9-inch x 9-inch 300 Pcs White', 5], ['acs172405', 'Eitheo Cute Baby Silicon Sling Bag | Cross Body Zipper | Hand Bag | Travel Purse | Trendy Girls Pouch Bag (Assorted Color)', 5], ['cmb091734', 'Eknoor Acrylic Gold Plated Hanuman ji with Prayer Beads Car Dashboard Idol (4 cm x 8 cm x 6.5 cm, Multicolour)', 5], ['acs068708', \"Lavie Women's Pearl Flap Satchel\", 5], ['acs227005', \"Caprese Women's Sling Bag (Coral)\", 5], ['acs050091', \"ZOUK Handmade Vegan Leather Chittoor Red Kalamkari Print Women's Sling Bags With Adjustable Shoulder Strap\", 5]]\n",
      "Interest-Based Recommendations: [['wcl147640', \"Rushwak Women's Soft Silicone Bra Strap Cushions Holder Bra Set Strap Holder Light Weight Non-Slip Safe Shoulder Pads Free...\", 5.0, 40.0], ['wcl040115', \"Rushwak Women's Soft Silicone Bra Strap Cushions Holder Bra Set Strap Holder Light Weight Non-Slip Safe Shoulder Pads Free...\", 5.0, 40.0], ['wcl006268', 'SATPURUSH Lycra Saree Shapewear Petticoat for Women, Cotton Blended,Petticoat,Skirts for Women,Shape Wear Dress for Saree', 5.0, 36.0], ['wcl177074', \"Yashika women's Art Silk Saree With Blouse Piece\", 5.0, 32.0], ['wcl121491', \"Yashika women's Art Silk Saree With Blouse Piece\", 5.0, 32.0], ['wcl234739', 'KTRIKSHA Crepe Printed A-Line Kurti for Women - Stylish and Comfortable Indian Ethnic Wear', 5.0, 28.0], ['wcl056855', 'ORZIX Fashion Dressing Tape/Invisible Double-Sided Body Tape (Fabric and Skin Friendly) Double Sided Tape for Clothes Dres...', 5.0, 23.0], ['wcl023357', \"Amayra Women's Rayon Embroidery Kurti with Palazzos and Dupatta Set\", 5.0, 20.0], ['wcl085645', \"Shasmi Women's & Girls' White Short Puff Sleeve, One Shoulder Neck, Ruched Bust Solid Tops for Women/Tops, T-Shirts for Gi...\", 5.0, 16.0], ['wcl011534', \"SGF11 Women's Kanjivaram Soft Lichi Silk Saree With Blouse Piece (New Look)\", 5.0, 15.0], ['wcl173189', \"SAFERSKY® Women's Soft Cotton Bra Panty Set for Women Cotton Stretch Non-Padded Non-Wired Bra Panty Set Best Lingerie Set ...\", 5.0, 14.0], ['wcl215589', 'QAZMI Kashmiri Embroidered Georgette Kurta', 5.0, 14.0], ['wcl223717', \"VIBRAL Cotton Lingerie Set for Women Full Padded Wire Free Bra Panty Set for Women's\", 5.0, 14.0], ['wcl252727', 'Cream with Red Floral Silk Stole for Women', 5.0, 13.0], ['wcl111897', 'GRECIILOOKS Pajama Set for Woman - Lycra Printed Hooded Long Sleeve Top & Pajama Jogging Track Outfit for Girls Suitable f...', 5.0, 13.0], ['wcl082998', 'Nisixdec No Show Underwear for Women Seamless High Cut Briefs Mid-Waist Soft No Panty Lines,Pack of 5', 5.0, 12.0], ['wcl224565', 'Nisixdec No Show Underwear for Women Seamless High Cut Briefs Mid-Waist Soft No Panty Lines,Pack of 5', 5.0, 12.0], ['wcl093113', 'Lymio Tops for Women || Tops for Women Women Tops || Tops || top for Women || top || Women top (602-607)', 5.0, 12.0], ['wcl256961', 'Bureaucrat Boob Tape + Reusable Silicone Nipple Covers, Cotton Spandex Multipurpose Breast Lift Booby Lifting Push-up Skin...', 5.0, 11.0], ['wcl083587', 'HSR Womens Multi Color Short Sleeve Tops Crew Neck Casual Comfy Slim Fit Top (Free Size)', 5.0, 11.0]]\n"
     ]
    }
   ],
   "execution_count": 7
  },
  {
   "metadata": {
    "ExecuteTime": {
     "end_time": "2024-11-20T09:48:28.818033Z",
     "start_time": "2024-11-20T09:48:28.724380Z"
    }
   },
   "cell_type": "code",
   "source": [
    "# import pickle\n",
    "# user_data = pd.read_csv('user_data.csv')\n",
    "# ratings_data = pd.read_csv('ratings_test.csv')\n",
    "# product_data = pd.read_csv('test_data.csv')\n",
    "# Assuming the class is named RecommendationModel and initialized like this:\n",
    "model = RecommendationModel(\n",
    "    user_data=user_data,\n",
    "    product_data=product_data,\n",
    "    ratings_data=ratings_data\n",
    ")\n",
    "\n",
    "# Save the model to a pickle file\n",
    "with open('D:/RecommendModel/Saved_model/recommendation_interest_model.pkl', 'wb') as f:\n",
    "    pickle.dump(model, f)\n",
    "\n",
    "print(\"Model saved to recommendation_interest_model.pkl\")\n"
   ],
   "id": "7613510caaf43af0",
   "outputs": [
    {
     "name": "stdout",
     "output_type": "stream",
     "text": [
      "Model saved to recommendation_interest_model.pkl\n"
     ]
    }
   ],
   "execution_count": 8
  },
  {
   "metadata": {},
   "cell_type": "code",
   "outputs": [],
   "execution_count": null,
   "source": "",
   "id": "69222ffe4c207846"
  }
 ],
 "metadata": {
  "kernelspec": {
   "display_name": "Python 3",
   "language": "python",
   "name": "python3"
  },
  "language_info": {
   "codemirror_mode": {
    "name": "ipython",
    "version": 2
   },
   "file_extension": ".py",
   "mimetype": "text/x-python",
   "name": "python",
   "nbconvert_exporter": "python",
   "pygments_lexer": "ipython2",
   "version": "2.7.6"
  }
 },
 "nbformat": 4,
 "nbformat_minor": 5
}
