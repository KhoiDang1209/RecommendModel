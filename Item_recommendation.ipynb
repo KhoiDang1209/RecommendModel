{
 "cells": [
  {
   "cell_type": "code",
   "id": "initial_id",
   "metadata": {
    "collapsed": true,
    "ExecuteTime": {
     "end_time": "2024-11-21T04:34:16.739175Z",
     "start_time": "2024-11-21T04:34:15.153693Z"
    }
   },
   "source": [
    "import pickle\n",
    "import pandas as pd\n",
    "from sklearn.feature_extraction.text import TfidfVectorizer\n",
    "from sklearn.metrics.pairwise import cosine_similarity\n",
    "\n",
    "\n",
    "class ItemRecommendation:\n",
    "    def __init__(self, data_path):\n",
    "        self.data = pd.read_csv(data_path)\n",
    "        self.data['processed_name'] = self.data['name'].str.lower()\n",
    "\n",
    "        self.vectorizer = TfidfVectorizer(stop_words='english')\n",
    "        self.tfidf_matrix = self.vectorizer.fit_transform(self.data['processed_name'])\n",
    "\n",
    "    def find_similar_items(self, item_id, top_n=20):\n",
    "        if item_id not in self.data['id'].values:\n",
    "            print(f\"Item ID {item_id} not found in dataset.\")\n",
    "            return []\n",
    "\n",
    "        item_index = self.data[self.data['id'] == item_id].index[0]\n",
    "\n",
    "        # Get the TF-IDF vector for the item\n",
    "        item_vector = self.tfidf_matrix[item_index]\n",
    "\n",
    "        # Compute cosine similarities\n",
    "        cosine_similarities = cosine_similarity(item_vector, self.tfidf_matrix).flatten()\n",
    "\n",
    "        # Get indices of the top similar items, excluding the item itself\n",
    "        similar_indices = cosine_similarities.argsort()[-top_n-1:-1][::-1]\n",
    "\n",
    "        # Fetch item details for similar items without similarity_score\n",
    "        similar_items = self.data.iloc[similar_indices][['name', 'main_category', 'sub_category']]\n",
    "\n",
    "        # Convert the DataFrame to a list of dictionaries\n",
    "        similar_items_list = similar_items.to_dict(orient='records')\n",
    "\n",
    "        return similar_items_list\n",
    "\n",
    "\n",
    "    def save(self, filepath):\n",
    "        \"\"\"Save the model to a file.\"\"\"\n",
    "        with open(filepath, 'wb') as f:\n",
    "            pickle.dump(self, f)\n",
    "\n",
    "    @staticmethod\n",
    "    def load(filepath):\n",
    "        \"\"\"Load the model from a file.\"\"\"\n",
    "        with open(filepath, 'rb') as f:\n",
    "            return pickle.load(f)\n",
    "\n",
    "\n",
    "# Example Usage\n",
    "if __name__ == \"__main__\":\n",
    "    # Initialize and save the model\n",
    "    item_model = ItemRecommendation(data_path=\"test_data.csv\")\n",
    "    item_model.save('D:/RecommendModel/Saved_model/item_recommendation_model.pkl')\n",
    "\n",
    "    # Load the model\n",
    "\n",
    "    # Find similar items\n",
    "    item_id = \"tvc119790\"\n",
    "    similar_items = item_model.find_similar_items(item_id, top_n=20)\n",
    "    print(\"Similar items for Item ID:\", item_id)\n",
    "    print(similar_items)\n"
   ],
   "outputs": [
    {
     "name": "stdout",
     "output_type": "stream",
     "text": [
      "Similar items for Item ID: tvc119790\n",
      "[{'name': 'FND Camera Lens UV Filter 49MM -Super Slim UV Filter Aluminum Frame (49 MM)', 'main_category': 'tv, audio & cameras', 'sub_category': 'Camera Accessories'}, {'name': 'Shomex UV Protection Lens Filter (72 mm)', 'main_category': 'tv, audio & cameras', 'sub_category': 'Cameras'}, {'name': 'Shomex UV Protection Lens Filter (72 mm)', 'main_category': 'tv, audio & cameras', 'sub_category': 'Camera Accessories'}, {'name': 'Hanumex UV Protection Lens Filter 55 mm', 'main_category': 'tv, audio & cameras', 'sub_category': 'Camera Accessories'}, {'name': 'VIBLITZ® Ultra Slim UV Filter Protection Slim Frame (77 MM)', 'main_category': 'tv, audio & cameras', 'sub_category': 'Cameras'}, {'name': 'AmazonBasics UV Protection Lens Filter - 77 mm', 'main_category': 'tv, audio & cameras', 'sub_category': 'Camera Accessories'}, {'name': 'Hanumex UV Protection Lens Filter 77 mm', 'main_category': 'tv, audio & cameras', 'sub_category': 'Camera Accessories'}, {'name': 'HIFFIN® PRO Concept 72mm MC UV Protection Filter, 18 Multi-Layer Coated HD/Waterproof/Scratch Resistant UV Filter with Nan...', 'main_category': 'tv, audio & cameras', 'sub_category': 'Cameras'}, {'name': 'HIFFIN® 72 Ultra Slim Multicoated 16 Layers UV Filter Protection Slim Frame with Multi-Resistant Coating', 'main_category': 'tv, audio & cameras', 'sub_category': 'Camera Accessories'}, {'name': 'K&F Concept MC UV Protection Filter Slim Frame with Multi-Resistant Coating for Camera Lens (77mm)', 'main_category': 'tv, audio & cameras', 'sub_category': 'Camera Accessories'}, {'name': 'K&F Concept MC UV Protection Filter Slim Frame with Multi-Resistant Coating for Camera Lens (77mm)', 'main_category': 'tv, audio & cameras', 'sub_category': 'Cameras'}, {'name': 'K&F Concept MC UV Protection Filter Slim Frame with Multi-Resistant Coating for Camera Lens (40.5mm)', 'main_category': 'tv, audio & cameras', 'sub_category': 'Camera Accessories'}, {'name': 'MECO-S-MC-UV- 82 mm DSLR Camera Lens Filter', 'main_category': 'tv, audio & cameras', 'sub_category': 'Camera Accessories'}, {'name': 'Colorsole® 8\" UV Lamp for RO UV Water Filter/UV Lamp for RO+UV Water Purifier/UV Lamp for Kent/Pureit/Aquaguard/TATA Swatc...', 'main_category': 'appliances', 'sub_category': 'Kitchen & Home Appliances'}, {'name': 'Sonia 77mm UV Filter', 'main_category': 'tv, audio & cameras', 'sub_category': 'Camera Accessories'}, {'name': 'DIGITEK® (MCUV55 MM) 55mm MC UV Filter with 16 Multi-Coated Layers for DSLR Camera Lens Protection from UV Rays, Dust & Sc...', 'main_category': 'tv, audio & cameras', 'sub_category': 'Cameras'}, {'name': 'FND Slim UV Filter, Ultra Clear, Nano COTED PowerMG, Size 49MM for Canon EF 50 mm f/1.8 STM', 'main_category': 'tv, audio & cameras', 'sub_category': 'Cameras'}, {'name': 'FotoCart Smart Slim 43mm UV Filter for Protect Your DSLR Lens', 'main_category': 'tv, audio & cameras', 'sub_category': 'Camera Accessories'}, {'name': 'HIFFIN® PRO Concept 55mm MC UV Protection Filter, 18 Multi-Layer Coated HD/Waterproof/Scratch Resistant UV Filter with Nan...', 'main_category': 'tv, audio & cameras', 'sub_category': 'Camera Accessories'}, {'name': 'HIFFIN® PRO Concept 58mm MC UV Protection Filter, 18 Multi-Layer Coated HD/Waterproof/Scratch Resistant UV Filter with Nan...', 'main_category': 'tv, audio & cameras', 'sub_category': 'Camera Accessories'}]\n"
     ]
    }
   ],
   "execution_count": 6
  },
  {
   "metadata": {},
   "cell_type": "code",
   "outputs": [],
   "execution_count": null,
   "source": "",
   "id": "c202cfc9cbe83efa"
  }
 ],
 "metadata": {
  "kernelspec": {
   "display_name": "Python 3",
   "language": "python",
   "name": "python3"
  },
  "language_info": {
   "codemirror_mode": {
    "name": "ipython",
    "version": 2
   },
   "file_extension": ".py",
   "mimetype": "text/x-python",
   "name": "python",
   "nbconvert_exporter": "python",
   "pygments_lexer": "ipython2",
   "version": "2.7.6"
  }
 },
 "nbformat": 4,
 "nbformat_minor": 5
}
