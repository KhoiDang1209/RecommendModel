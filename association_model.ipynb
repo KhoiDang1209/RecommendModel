{
 "cells": [
  {
   "cell_type": "code",
   "id": "initial_id",
   "metadata": {
    "collapsed": true,
    "ExecuteTime": {
     "end_time": "2024-11-21T17:40:12.470180Z",
     "start_time": "2024-11-21T17:40:12.444441Z"
    }
   },
   "source": [
    "import pandas as pd\n",
    "import pickle\n",
    "class AssociationRecommendationModel:\n",
    "    def __init__(self, data, rules):\n",
    "        self.data = data\n",
    "        self.rules = rules\n",
    "\n",
    "    def get_top_associated_categories(self, item_ids, n=3):\n",
    "        \"\"\"Get top associated categories for a list of item IDs.\"\"\"\n",
    "        top_associated_categories = set()\n",
    "\n",
    "        for item_id in item_ids:\n",
    "            # Retrieve item information\n",
    "            item_info = self.data[self.data['id'] == item_id]\n",
    "            if item_info.empty:\n",
    "                print(f\"Item with ID {item_id} not found in dataset.\")\n",
    "                continue\n",
    "\n",
    "            # Construct item category combination\n",
    "            item_category = f\"{item_info.iloc[0]['main_category']} - {item_info.iloc[0]['sub_category']}\"\n",
    "            # Filter rules to find relevant antecedents\n",
    "            relevant_rules = self.rules[self.rules['antecedents'].apply(lambda x: item_category in x)]\n",
    "            # If no rules, continue\n",
    "            if relevant_rules.empty:\n",
    "                continue\n",
    "\n",
    "            # Sort rules and collect associated categories\n",
    "            relevant_rules = relevant_rules.sort_values(by='lift', ascending=False).head(n)\n",
    "            for _, row in relevant_rules.iterrows():\n",
    "                for category_set in [row['antecedents'], row['consequents']]:\n",
    "                    if isinstance(category_set, str):  # Ensure it's a string\n",
    "                        for category in category_set.split(\", \"):  # Split by delimiter\n",
    "                            if category != item_category:  # Exclude the original category\n",
    "                                top_associated_categories.add(category)\n",
    "        # Return the top N categories as a list\n",
    "        top_categories_list = list(top_associated_categories)[:n]\n",
    "        return top_categories_list\n",
    "\n",
    "\n",
    "    def get_top_rated_items(self, associated_categories, top_n=5):\n",
    "        \"\"\"Get top-rated items from the associated categories.\"\"\"\n",
    "        top_items = []\n",
    "        for category in associated_categories:\n",
    "            try:\n",
    "                # Split the main and subcategories\n",
    "                main_category, sub_category = category.split(\" - \")\n",
    "            except ValueError:\n",
    "                print(f\"Invalid category format: {category}\")\n",
    "                continue\n",
    "            # Filter items within the given category\n",
    "            category_items = self.data[\n",
    "                (self.data['main_category'] == main_category) &\n",
    "                (self.data['sub_category'] == sub_category)\n",
    "            ]\n",
    "            # Get top items based on ratings\n",
    "            top_rated_items = category_items.sort_values(by='ratings', ascending=False).head(top_n)\n",
    "            top_items.extend(top_rated_items['id'].tolist())\n",
    "        return top_items\n",
    "\n",
    "    def recommend(self, item_ids, associated_n=3, top_n=5):\n",
    "        # Get top associated categories for the input items\n",
    "        top_associated_categories = self.get_top_associated_categories(item_ids, n=associated_n)\n",
    "        # Get highest-rated items from the associated categories\n",
    "        top_rated_items = self.get_top_rated_items(top_associated_categories, top_n=top_n)\n",
    "        return top_rated_items\n",
    "\n",
    "\n",
    "    def save(self, file_path):\n",
    "        with open(file_path, 'wb') as f:\n",
    "            pickle.dump(self, f)\n",
    "        print(f\"Model saved to {file_path}\")\n",
    "\n",
    "    @staticmethod\n",
    "    def load(file_path):\n",
    "        with open(file_path, 'rb') as f:\n",
    "            model = pickle.load(f)\n",
    "        print(f\"Model loaded from {file_path}\")\n",
    "        return model\n"
   ],
   "outputs": [],
   "execution_count": 19
  },
  {
   "metadata": {
    "ExecuteTime": {
     "end_time": "2024-11-21T17:41:43.844557Z",
     "start_time": "2024-11-21T17:41:43.275262Z"
    }
   },
   "cell_type": "code",
   "source": [
    "if __name__ == \"__main__\":\n",
    "    # Load datasets\n",
    "    product = pd.read_csv('test_data.csv')\n",
    "    rules = pd.read_csv('association_rules.csv')  # Ensure this file contains 'antecedents', 'consequents', and 'lift'\n",
    "\n",
    "    # Initialize the model\n",
    "    model = AssociationRecommendationModel(data=product, rules=rules)\n",
    "\n",
    "    # Save the model to a Pickle file\n",
    "    model.save('D:/RecommendModel/Saved_model/association_recommendation_model.pkl')\n",
    "\n",
    "    loaded_model = AssociationRecommendationModel.load('D:/RecommendModel/Saved_model/association_recommendation_model.pkl')\n",
    "\n",
    "    example_item_ids = ['app010812','mcl257235']\n",
    "    recommendations = model.recommend(item_ids=example_item_ids, associated_n=3, top_n=5)\n",
    "    print(\"Final Recommendations:\", recommendations)"
   ],
   "id": "ddbc40274a388072",
   "outputs": [
    {
     "name": "stdout",
     "output_type": "stream",
     "text": [
      "Model saved to D:/RecommendModel/Saved_model/association_recommendation_model.pkl\n",
      "Model loaded from D:/RecommendModel/Saved_model/association_recommendation_model.pkl\n",
      "Final Recommendations: ['mcl185969', 'mcl172290', 'mcl118125', 'mcl139203', 'mcl180466', 'app203321', 'app013021', 'app091999', 'app110901', 'app120588', 'app125574', 'app107571', 'app042768', 'app066402', 'app073406']\n"
     ]
    }
   ],
   "execution_count": 23
  },
  {
   "metadata": {},
   "cell_type": "code",
   "outputs": [],
   "execution_count": null,
   "source": "",
   "id": "c1308b234018838f"
  }
 ],
 "metadata": {
  "kernelspec": {
   "display_name": "Python 3",
   "language": "python",
   "name": "python3"
  },
  "language_info": {
   "codemirror_mode": {
    "name": "ipython",
    "version": 2
   },
   "file_extension": ".py",
   "mimetype": "text/x-python",
   "name": "python",
   "nbconvert_exporter": "python",
   "pygments_lexer": "ipython2",
   "version": "2.7.6"
  }
 },
 "nbformat": 4,
 "nbformat_minor": 5
}
