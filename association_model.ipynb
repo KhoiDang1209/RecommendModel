{
 "cells": [
  {
   "cell_type": "code",
   "id": "initial_id",
   "metadata": {
    "collapsed": true,
    "ExecuteTime": {
     "end_time": "2024-11-20T17:28:54.351533Z",
     "start_time": "2024-11-20T17:28:54.331306Z"
    }
   },
   "source": [
    "from itertools import product\n",
    "\n",
    "import pandas as pd\n",
    "import pickle\n",
    "class AssociationRecommendationModel:\n",
    "    def __init__(self, data, rules):\n",
    "        self.data = data\n",
    "        self.rules = rules\n",
    "\n",
    "    def get_top_associated_categories(self, item_ids, n=3):\n",
    "        top_associated_categories = set()\n",
    "\n",
    "        for item_id in item_ids:\n",
    "            # Retrieve item information\n",
    "            item_info = self.data[self.data['id'] == item_id]\n",
    "            if item_info.empty:\n",
    "                print(f\"Item {item_id} not found in dataset. Skipping.\")\n",
    "                continue\n",
    "\n",
    "            # Construct item category combination\n",
    "            item_category = f\"{item_info.iloc[0]['main_category']} - {item_info.iloc[0]['sub_category']}\"\n",
    "\n",
    "            # Filter rules to find relevant antecedents\n",
    "            relevant_rules = self.rules[self.rules['antecedents'].apply(lambda x: item_category in x)]\n",
    "\n",
    "            # Sort rules by lift and retrieve top categories\n",
    "            relevant_rules = relevant_rules.sort_values(by='lift', ascending=False).head(n)\n",
    "\n",
    "            # Add consequents to top_associated_categories\n",
    "            for _, row in relevant_rules.iterrows():\n",
    "                # Extract items from the frozenset\n",
    "                top_associated_categories.update(list(row['consequents']))\n",
    "\n",
    "        return list(top_associated_categories)\n",
    "\n",
    "\n",
    "    def get_top_rated_items(self, associated_categories, top_n=2):\n",
    "        top_items = []\n",
    "        for category in associated_categories:\n",
    "            # Split the main and subcategories\n",
    "            main_category, sub_category = category.split(\" - \")\n",
    "            # Filter items within the given category\n",
    "            category_items = self.data[\n",
    "                (self.data['main_category'] == main_category) &\n",
    "                (self.data['sub_category'] == sub_category)\n",
    "            ]\n",
    "            # Get top items based on ratings\n",
    "            top_rated_items = category_items.sort_values(by='ratings', ascending=False).head(top_n)\n",
    "            top_items.extend(top_rated_items['id'].tolist())\n",
    "        return top_items\n",
    "\n",
    "    def recommend(self, item_ids, associated_n=5, top_n=2):\n",
    "        # Get top associated categories for the input items\n",
    "        top_associated_categories = self.get_top_associated_categories(item_ids, n=associated_n)\n",
    "        print(f\"Top associated categories: {top_associated_categories}\")\n",
    "        # Get highest-rated items from the associated categories\n",
    "        top_rated_items = self.get_top_rated_items(top_associated_categories, top_n=top_n)\n",
    "        return top_rated_items\n",
    "\n",
    "    def save(self, file_path):\n",
    "        with open(file_path, 'wb') as f:\n",
    "            pickle.dump(self, f)\n",
    "        print(f\"Model saved to {file_path}\")\n",
    "\n",
    "    @staticmethod\n",
    "    def load(file_path):\n",
    "        with open(file_path, 'rb') as f:\n",
    "            model = pickle.load(f)\n",
    "        print(f\"Model loaded from {file_path}\")\n",
    "        return model\n"
   ],
   "outputs": [],
   "execution_count": 5
  },
  {
   "metadata": {
    "ExecuteTime": {
     "end_time": "2024-11-20T17:28:58.954885Z",
     "start_time": "2024-11-20T17:28:58.288860Z"
    }
   },
   "cell_type": "code",
   "source": [
    "if __name__ == \"__main__\":\n",
    "    # Load datasets\n",
    "    product = pd.read_csv('test_data.csv')\n",
    "    rules = pd.read_csv('association_rules.csv')  # Ensure this file contains 'antecedents', 'consequents', and 'lift'\n",
    "\n",
    "    # Initialize the model\n",
    "    model = AssociationRecommendationModel(data=product, rules=rules)\n",
    "\n",
    "    # Save the model to a Pickle file\n",
    "    model.save('D:/RecommendModel/Saved_model/association_recommendation_model.pkl')\n",
    "\n",
    "    loaded_model = AssociationRecommendationModel.load('D:/RecommendModel/Saved_model/association_recommendation_model.pkl')\n",
    "\n",
    "    example_item_ids = ['tvc119790', 'mcl257235']\n",
    "    recommendations = loaded_model.recommend(item_ids=example_item_ids, associated_n=5, top_n=10)\n",
    "    print(\"Final Recommendations:\", recommendations)"
   ],
   "id": "ddbc40274a388072",
   "outputs": [
    {
     "name": "stdout",
     "output_type": "stream",
     "text": [
      "Model saved to D:/RecommendModel/Saved_model/association_recommendation_model.pkl\n",
      "Model loaded from D:/RecommendModel/Saved_model/association_recommendation_model.pkl\n",
      "Top associated categories: ['w', ')', 'o', 'g', 'c', 'r', ' ', '}', 'J', 'n', 'l', 'i', '(', 'E', 'W', 't', '-', 's', 'e', 'P', '\"', 'T', 'f', 'h', 'I', '&', \"'\", 'a', '{', 'm', 'z']\n"
     ]
    },
    {
     "ename": "ValueError",
     "evalue": "not enough values to unpack (expected 2, got 1)",
     "output_type": "error",
     "traceback": [
      "\u001B[1;31m---------------------------------------------------------------------------\u001B[0m",
      "\u001B[1;31mValueError\u001B[0m                                Traceback (most recent call last)",
      "Cell \u001B[1;32mIn[6], line 15\u001B[0m\n\u001B[0;32m     12\u001B[0m loaded_model \u001B[38;5;241m=\u001B[39m AssociationRecommendationModel\u001B[38;5;241m.\u001B[39mload(\u001B[38;5;124m'\u001B[39m\u001B[38;5;124mD:/RecommendModel/Saved_model/association_recommendation_model.pkl\u001B[39m\u001B[38;5;124m'\u001B[39m)\n\u001B[0;32m     14\u001B[0m example_item_ids \u001B[38;5;241m=\u001B[39m [\u001B[38;5;124m'\u001B[39m\u001B[38;5;124mtvc119790\u001B[39m\u001B[38;5;124m'\u001B[39m, \u001B[38;5;124m'\u001B[39m\u001B[38;5;124mmcl257235\u001B[39m\u001B[38;5;124m'\u001B[39m]\n\u001B[1;32m---> 15\u001B[0m recommendations \u001B[38;5;241m=\u001B[39m \u001B[43mloaded_model\u001B[49m\u001B[38;5;241;43m.\u001B[39;49m\u001B[43mrecommend\u001B[49m\u001B[43m(\u001B[49m\u001B[43mitem_ids\u001B[49m\u001B[38;5;241;43m=\u001B[39;49m\u001B[43mexample_item_ids\u001B[49m\u001B[43m,\u001B[49m\u001B[43m \u001B[49m\u001B[43massociated_n\u001B[49m\u001B[38;5;241;43m=\u001B[39;49m\u001B[38;5;241;43m5\u001B[39;49m\u001B[43m,\u001B[49m\u001B[43m \u001B[49m\u001B[43mtop_n\u001B[49m\u001B[38;5;241;43m=\u001B[39;49m\u001B[38;5;241;43m10\u001B[39;49m\u001B[43m)\u001B[49m\n\u001B[0;32m     16\u001B[0m \u001B[38;5;28mprint\u001B[39m(\u001B[38;5;124m\"\u001B[39m\u001B[38;5;124mFinal Recommendations:\u001B[39m\u001B[38;5;124m\"\u001B[39m, recommendations)\n",
      "Cell \u001B[1;32mIn[5], line 57\u001B[0m, in \u001B[0;36mAssociationRecommendationModel.recommend\u001B[1;34m(self, item_ids, associated_n, top_n)\u001B[0m\n\u001B[0;32m     55\u001B[0m \u001B[38;5;28mprint\u001B[39m(\u001B[38;5;124mf\u001B[39m\u001B[38;5;124m\"\u001B[39m\u001B[38;5;124mTop associated categories: \u001B[39m\u001B[38;5;132;01m{\u001B[39;00mtop_associated_categories\u001B[38;5;132;01m}\u001B[39;00m\u001B[38;5;124m\"\u001B[39m)\n\u001B[0;32m     56\u001B[0m \u001B[38;5;66;03m# Get highest-rated items from the associated categories\u001B[39;00m\n\u001B[1;32m---> 57\u001B[0m top_rated_items \u001B[38;5;241m=\u001B[39m \u001B[38;5;28;43mself\u001B[39;49m\u001B[38;5;241;43m.\u001B[39;49m\u001B[43mget_top_rated_items\u001B[49m\u001B[43m(\u001B[49m\u001B[43mtop_associated_categories\u001B[49m\u001B[43m,\u001B[49m\u001B[43m \u001B[49m\u001B[43mtop_n\u001B[49m\u001B[38;5;241;43m=\u001B[39;49m\u001B[43mtop_n\u001B[49m\u001B[43m)\u001B[49m\n\u001B[0;32m     58\u001B[0m \u001B[38;5;28;01mreturn\u001B[39;00m top_rated_items\n",
      "Cell \u001B[1;32mIn[5], line 41\u001B[0m, in \u001B[0;36mAssociationRecommendationModel.get_top_rated_items\u001B[1;34m(self, associated_categories, top_n)\u001B[0m\n\u001B[0;32m     38\u001B[0m top_items \u001B[38;5;241m=\u001B[39m []\n\u001B[0;32m     39\u001B[0m \u001B[38;5;28;01mfor\u001B[39;00m category \u001B[38;5;129;01min\u001B[39;00m associated_categories:\n\u001B[0;32m     40\u001B[0m     \u001B[38;5;66;03m# Split the main and subcategories\u001B[39;00m\n\u001B[1;32m---> 41\u001B[0m     main_category, sub_category \u001B[38;5;241m=\u001B[39m category\u001B[38;5;241m.\u001B[39msplit(\u001B[38;5;124m\"\u001B[39m\u001B[38;5;124m - \u001B[39m\u001B[38;5;124m\"\u001B[39m)\n\u001B[0;32m     42\u001B[0m     \u001B[38;5;66;03m# Filter items within the given category\u001B[39;00m\n\u001B[0;32m     43\u001B[0m     category_items \u001B[38;5;241m=\u001B[39m \u001B[38;5;28mself\u001B[39m\u001B[38;5;241m.\u001B[39mdata[\n\u001B[0;32m     44\u001B[0m         (\u001B[38;5;28mself\u001B[39m\u001B[38;5;241m.\u001B[39mdata[\u001B[38;5;124m'\u001B[39m\u001B[38;5;124mmain_category\u001B[39m\u001B[38;5;124m'\u001B[39m] \u001B[38;5;241m==\u001B[39m main_category) \u001B[38;5;241m&\u001B[39m\n\u001B[0;32m     45\u001B[0m         (\u001B[38;5;28mself\u001B[39m\u001B[38;5;241m.\u001B[39mdata[\u001B[38;5;124m'\u001B[39m\u001B[38;5;124msub_category\u001B[39m\u001B[38;5;124m'\u001B[39m] \u001B[38;5;241m==\u001B[39m sub_category)\n\u001B[0;32m     46\u001B[0m     ]\n",
      "\u001B[1;31mValueError\u001B[0m: not enough values to unpack (expected 2, got 1)"
     ]
    }
   ],
   "execution_count": 6
  },
  {
   "metadata": {},
   "cell_type": "code",
   "outputs": [],
   "execution_count": null,
   "source": "",
   "id": "c1308b234018838f"
  }
 ],
 "metadata": {
  "kernelspec": {
   "display_name": "Python 3",
   "language": "python",
   "name": "python3"
  },
  "language_info": {
   "codemirror_mode": {
    "name": "ipython",
    "version": 2
   },
   "file_extension": ".py",
   "mimetype": "text/x-python",
   "name": "python",
   "nbconvert_exporter": "python",
   "pygments_lexer": "ipython2",
   "version": "2.7.6"
  }
 },
 "nbformat": 4,
 "nbformat_minor": 5
}
