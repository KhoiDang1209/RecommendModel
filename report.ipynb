{
 "cells": [
  {
   "cell_type": "code",
   "id": "initial_id",
   "metadata": {
    "collapsed": true,
    "ExecuteTime": {
     "end_time": "2024-11-11T16:53:25.422134Z",
     "start_time": "2024-11-11T16:53:25.022263Z"
    }
   },
   "source": [
    "import pandas as pd\n",
    "val_data=pd.read_csv('val_data.csv')\n",
    "val_data.count()"
   ],
   "outputs": [
    {
     "data": {
      "text/plain": [
       "id                       53244\n",
       "name                     53244\n",
       "main_category            53244\n",
       "main_category_encoded    53244\n",
       "sub_category             53244\n",
       "sub_category_encoded     53244\n",
       "image                    53244\n",
       "link                     53244\n",
       "ratings                  53244\n",
       "no_of_ratings            53244\n",
       "discount_price_usd       53244\n",
       "actual_price_usd         53244\n",
       "dtype: int64"
      ]
     },
     "execution_count": 6,
     "metadata": {},
     "output_type": "execute_result"
    }
   ],
   "execution_count": 6
  },
  {
   "metadata": {
    "ExecuteTime": {
     "end_time": "2024-11-11T16:54:11.035672Z",
     "start_time": "2024-11-11T16:54:10.021504Z"
    }
   },
   "cell_type": "code",
   "source": [
    "\n",
    "train_data = pd.read_csv('train_data.csv')\n",
    "train_data.count()"
   ],
   "id": "5b6cf66c3cf9b0be",
   "outputs": [
    {
     "data": {
      "text/plain": [
       "id                       159731\n",
       "name                     159731\n",
       "main_category            159731\n",
       "main_category_encoded    159731\n",
       "sub_category             159731\n",
       "sub_category_encoded     159731\n",
       "image                    159731\n",
       "link                     159731\n",
       "ratings                  159731\n",
       "no_of_ratings            159731\n",
       "discount_price_usd       159731\n",
       "actual_price_usd         159731\n",
       "dtype: int64"
      ]
     },
     "execution_count": 7,
     "metadata": {},
     "output_type": "execute_result"
    }
   ],
   "execution_count": 7
  },
  {
   "metadata": {
    "ExecuteTime": {
     "end_time": "2024-11-11T16:54:29.602252Z",
     "start_time": "2024-11-11T16:54:29.226473Z"
    }
   },
   "cell_type": "code",
   "source": [
    "test_data = pd.read_csv('test_data.csv')\n",
    "test_data.count()"
   ],
   "id": "15defe1eb3b733cf",
   "outputs": [
    {
     "data": {
      "text/plain": [
       "id                       53244\n",
       "name                     53244\n",
       "main_category            53244\n",
       "main_category_encoded    53244\n",
       "sub_category             53244\n",
       "sub_category_encoded     53244\n",
       "image                    53244\n",
       "link                     53244\n",
       "ratings                  53244\n",
       "no_of_ratings            53244\n",
       "discount_price_usd       53244\n",
       "actual_price_usd         53244\n",
       "dtype: int64"
      ]
     },
     "execution_count": 8,
     "metadata": {},
     "output_type": "execute_result"
    }
   ],
   "execution_count": 8
  },
  {
   "metadata": {},
   "cell_type": "code",
   "outputs": [],
   "execution_count": null,
   "source": "",
   "id": "4b5ba16f5d823be6"
  }
 ],
 "metadata": {
  "kernelspec": {
   "display_name": "Python 3",
   "language": "python",
   "name": "python3"
  },
  "language_info": {
   "codemirror_mode": {
    "name": "ipython",
    "version": 2
   },
   "file_extension": ".py",
   "mimetype": "text/x-python",
   "name": "python",
   "nbconvert_exporter": "python",
   "pygments_lexer": "ipython2",
   "version": "2.7.6"
  }
 },
 "nbformat": 4,
 "nbformat_minor": 5
}
