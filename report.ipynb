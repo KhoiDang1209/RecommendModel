{
 "cells": [
  {
   "cell_type": "code",
   "id": "initial_id",
   "metadata": {
    "collapsed": true,
    "ExecuteTime": {
     "end_time": "2024-11-12T03:49:33.195858Z",
     "start_time": "2024-11-12T03:49:32.280514Z"
    }
   },
   "source": [
    "import pandas as pd\n",
    "train_data = pd.read_csv('train_data.csv')\n",
    "columns = train_data.columns\n",
    "print(columns)\n"
   ],
   "outputs": [
    {
     "name": "stdout",
     "output_type": "stream",
     "text": [
      "Index(['id', 'name', 'main_category', 'main_category_encoded', 'sub_category',\n",
      "       'sub_category_encoded', 'image', 'link', 'ratings', 'no_of_ratings',\n",
      "       'discount_price_usd', 'actual_price_usd'],\n",
      "      dtype='object')\n"
     ]
    }
   ],
   "execution_count": 12
  },
  {
   "metadata": {
    "ExecuteTime": {
     "end_time": "2024-11-12T03:53:47.890403Z",
     "start_time": "2024-11-12T03:53:47.872553Z"
    }
   },
   "cell_type": "code",
   "source": [
    "user=pd.read_csv('user.csv')\n",
    "user_column=user.columns\n",
    "print(user_column)"
   ],
   "id": "4b5ba16f5d823be6",
   "outputs": [
    {
     "name": "stdout",
     "output_type": "stream",
     "text": [
      "Index(['userid', 'age', 'gender', 'city ', 'country'], dtype='object')\n"
     ]
    }
   ],
   "execution_count": 14
  },
  {
   "metadata": {
    "ExecuteTime": {
     "end_time": "2024-11-12T04:00:38.346833Z",
     "start_time": "2024-11-12T04:00:38.315153Z"
    }
   },
   "cell_type": "code",
   "source": [
    "rating=pd.read_csv('rating.csv')\n",
    "rating_column=rating.columns\n",
    "print(rating_column)"
   ],
   "id": "dc880a0083cdd2fc",
   "outputs": [
    {
     "name": "stdout",
     "output_type": "stream",
     "text": [
      "Index(['Unnamed: 0', 'userid', 'productid', 'main_category', 'sub_category',\n",
      "       'rating'],\n",
      "      dtype='object')\n"
     ]
    }
   ],
   "execution_count": 17
  },
  {
   "metadata": {
    "ExecuteTime": {
     "end_time": "2024-11-12T04:02:34.809660Z",
     "start_time": "2024-11-12T04:02:34.758024Z"
    }
   },
   "cell_type": "code",
   "source": [
    "association=pd.read_csv('association_rules.csv')\n",
    "association_column=association.columns\n",
    "print(association_column)"
   ],
   "id": "d6e5ffc1b369db0f",
   "outputs": [
    {
     "name": "stdout",
     "output_type": "stream",
     "text": [
      "Index(['antecedents', 'consequents', 'antecedent support',\n",
      "       'consequent support', 'support', 'confidence', 'lift',\n",
      "       'representativity', 'leverage', 'conviction', 'zhangs_metric',\n",
      "       'jaccard', 'certainty', 'kulczynski'],\n",
      "      dtype='object')\n"
     ]
    }
   ],
   "execution_count": 18
  },
  {
   "metadata": {},
   "cell_type": "code",
   "outputs": [],
   "execution_count": null,
   "source": "",
   "id": "91190de03f39eee5"
  }
 ],
 "metadata": {
  "kernelspec": {
   "display_name": "Python 3",
   "language": "python",
   "name": "python3"
  },
  "language_info": {
   "codemirror_mode": {
    "name": "ipython",
    "version": 2
   },
   "file_extension": ".py",
   "mimetype": "text/x-python",
   "name": "python",
   "nbconvert_exporter": "python",
   "pygments_lexer": "ipython2",
   "version": "2.7.6"
  }
 },
 "nbformat": 4,
 "nbformat_minor": 5
}
